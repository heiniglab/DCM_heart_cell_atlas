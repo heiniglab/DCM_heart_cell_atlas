{
 "cells": [
  {
   "cell_type": "markdown",
   "metadata": {},
   "source": [
    "# Convert .h5ad to .h5Seurat\n",
    "### Author: ML\n",
    "### Date: 29/03/2021"
   ]
  },
  {
   "cell_type": "markdown",
   "metadata": {},
   "source": [
    "## Initialisation of packages and list loaded packages"
   ]
  },
  {
   "cell_type": "code",
   "execution_count": 2,
   "metadata": {
    "jupyter": {
     "outputs_hidden": true
    },
    "tags": []
   },
   "outputs": [
    {
     "name": "stderr",
     "output_type": "stream",
     "text": [
      "Registered S3 method overwritten by 'cli':\n",
      "  method     from    \n",
      "  print.boxx spatstat\n",
      "\n",
      "Registered S3 method overwritten by 'SeuratDisk':\n",
      "  method            from  \n",
      "  as.sparse.H5Group Seurat\n",
      "\n"
     ]
    }
   ],
   "source": [
    "#library(zellkonverter)\n",
    "library(SeuratDisk)\n",
    "library(Seurat)\n",
    "#library(SingleCellExperiment)"
   ]
  },
  {
   "cell_type": "code",
   "execution_count": 3,
   "metadata": {},
   "outputs": [
    {
     "name": "stdout",
     "output_type": "stream",
     "text": [
      "R version 3.6.1 (2019-07-05)\n",
      "Platform: x86_64-conda_cos6-linux-gnu (64-bit)\n",
      "Running under: CentOS Linux 7 (Core)\n",
      "\n",
      "Matrix products: default\n",
      "BLAS/LAPACK: /fast/AG_Huebner/GUIX_PROFILES/conda_envs/scanpy_151/lib/R/lib/libRblas.so\n",
      "\n",
      "attached base packages:\n",
      "[1] stats     graphics  grDevices utils     datasets  methods   base     \n",
      "\n",
      "other attached packages:\n",
      "[1] Seurat_3.2.2          SeuratDisk_0.0.0.9013\n",
      "\n",
      "loaded via a namespace (and not attached):\n",
      "  [1] nlme_3.1-149          matrixStats_0.57.0    bit64_4.0.5          \n",
      "  [4] RcppAnnoy_0.0.16      RColorBrewer_1.1-2    httr_1.4.2           \n",
      "  [7] repr_1.1.0            sctransform_0.3.1     tools_3.6.1          \n",
      " [10] utf8_1.2.1            R6_2.5.0              irlba_2.3.3          \n",
      " [13] rpart_4.1-15          KernSmooth_2.23-17    uwot_0.1.8           \n",
      " [16] mgcv_1.8-33           lazyeval_0.2.2        colorspace_2.0-1     \n",
      " [19] withr_2.4.2           tidyselect_1.1.1      gridExtra_2.3        \n",
      " [22] bit_4.0.4             compiler_3.6.1        cli_2.5.0            \n",
      " [25] hdf5r_1.3.3           plotly_4.9.2.1        scales_1.1.1         \n",
      " [28] spatstat.data_1.4-3   lmtest_0.9-38         ggridges_0.5.2       \n",
      " [31] pbapply_1.4-3         rappdirs_0.3.1        goftest_1.2-2        \n",
      " [34] spatstat_1.64-1       pbdZMQ_0.3-3.1        stringr_1.4.0        \n",
      " [37] digest_0.6.27         spatstat.utils_1.17-0 base64enc_0.1-3      \n",
      " [40] pkgconfig_2.0.3       htmltools_0.5.0       fastmap_1.0.1        \n",
      " [43] htmlwidgets_1.5.2     rlang_0.4.11          shiny_1.5.0          \n",
      " [46] generics_0.1.0        zoo_1.8-8             jsonlite_1.7.1       \n",
      " [49] ica_1.0-2             dplyr_1.0.6           magrittr_2.0.1       \n",
      " [52] patchwork_1.0.1       Matrix_1.2-18         Rcpp_1.0.6           \n",
      " [55] IRkernel_1.1.1.9000   munsell_0.5.0         fansi_0.5.0          \n",
      " [58] abind_1.4-5           reticulate_1.17       lifecycle_1.0.0      \n",
      " [61] stringi_1.5.3         MASS_7.3-53           Rtsne_0.15           \n",
      " [64] plyr_1.8.6            grid_3.6.1            parallel_3.6.1       \n",
      " [67] listenv_0.8.0         promises_1.1.1        ggrepel_0.8.2        \n",
      " [70] crayon_1.4.1          deldir_0.1-29         miniUI_0.1.1.1       \n",
      " [73] lattice_0.20-41       IRdisplay_0.7.0       cowplot_1.1.1        \n",
      " [76] splines_3.6.1         tensor_1.5            pillar_1.6.1         \n",
      " [79] igraph_1.2.6          uuid_0.1-4            future.apply_1.6.0   \n",
      " [82] reshape2_1.4.4        codetools_0.2-16      leiden_0.3.3         \n",
      " [85] glue_1.4.2            evaluate_0.14         data.table_1.13.2    \n",
      " [88] vctrs_0.3.8           png_0.1-7             httpuv_1.5.4         \n",
      " [91] polyclip_1.10-0       gtable_0.3.0          RANN_2.6.1           \n",
      " [94] purrr_0.3.4           tidyr_1.1.3           future_1.19.1        \n",
      " [97] ggplot2_3.3.3         rsvd_1.0.3            mime_0.9             \n",
      "[100] xtable_1.8-4          later_1.1.0.1         survival_3.2-7       \n",
      "[103] viridisLite_0.4.0     tibble_3.1.2          cluster_2.1.0        \n",
      "[106] globals_0.13.1        fitdistrplus_1.1-1    ellipsis_0.3.2       \n",
      "[109] ROCR_1.0-11          \n"
     ]
    }
   ],
   "source": [
    "current_session_info <- sessionInfo()\n",
    "print(current_session_info, locale = FALSE)"
   ]
  },
  {
   "cell_type": "code",
   "execution_count": 4,
   "metadata": {},
   "outputs": [],
   "source": [
    "'%!in%' <- function(x,y)!('%in%'(x,y))"
   ]
  },
  {
   "cell_type": "code",
   "execution_count": 5,
   "metadata": {},
   "outputs": [],
   "source": [
    "options(future.globals.maxSize = 20000 * 1024 ^ 2)"
   ]
  },
  {
   "cell_type": "markdown",
   "metadata": {},
   "source": [
    "## Import data"
   ]
  },
  {
   "cell_type": "code",
   "execution_count": 6,
   "metadata": {},
   "outputs": [],
   "source": [
    "OUTDIR <- '/fast/AG_Huebner/huebner3/ANALYSES/20190926_gp_BadOyenhausen/scanpy/20210302/Cellchat/'\n",
    "PREFIX <- 'global_all_ANNOTATED_CELLSTATES_RAW_V6_'\n",
    "SUFFIX <- '.h5ad'"
   ]
  },
  {
   "cell_type": "code",
   "execution_count": 7,
   "metadata": {},
   "outputs": [
    {
     "name": "stdout",
     "output_type": "stream",
     "text": [
      "[1] \"TTN\"\n",
      "[1] \"/fast/AG_Huebner/huebner3/ANALYSES/20190926_gp_BadOyenhausen/scanpy/20210302/Cellchat/global_all_ANNOTATED_CELLSTATES_RAW_V6_TTN.h5ad\"\n"
     ]
    },
    {
     "name": "stderr",
     "output_type": "stream",
     "text": [
      "Warning message:\n",
      "“Unknown file type: h5ad”\n",
      "Warning message:\n",
      "“'assay' not set, setting to 'RNA'”\n",
      "Creating h5Seurat file for version 3.1.5.9900\n",
      "\n",
      "Adding X as data\n",
      "\n",
      "Adding X as counts\n",
      "\n",
      "Adding meta.features from var\n",
      "\n"
     ]
    },
    {
     "name": "stdout",
     "output_type": "stream",
     "text": [
      "[1] \"RBM20\"\n",
      "[1] \"/fast/AG_Huebner/huebner3/ANALYSES/20190926_gp_BadOyenhausen/scanpy/20210302/Cellchat/global_all_ANNOTATED_CELLSTATES_RAW_V6_RBM20.h5ad\"\n"
     ]
    },
    {
     "name": "stderr",
     "output_type": "stream",
     "text": [
      "Warning message:\n",
      "“Unknown file type: h5ad”\n",
      "Warning message:\n",
      "“'assay' not set, setting to 'RNA'”\n",
      "Creating h5Seurat file for version 3.1.5.9900\n",
      "\n",
      "Adding X as data\n",
      "\n",
      "Adding X as counts\n",
      "\n",
      "Adding meta.features from var\n",
      "\n"
     ]
    },
    {
     "name": "stdout",
     "output_type": "stream",
     "text": [
      "[1] \"LMNA\"\n",
      "[1] \"/fast/AG_Huebner/huebner3/ANALYSES/20190926_gp_BadOyenhausen/scanpy/20210302/Cellchat/global_all_ANNOTATED_CELLSTATES_RAW_V6_LMNA.h5ad\"\n"
     ]
    },
    {
     "name": "stderr",
     "output_type": "stream",
     "text": [
      "Warning message:\n",
      "“Unknown file type: h5ad”\n",
      "Warning message:\n",
      "“'assay' not set, setting to 'RNA'”\n",
      "Creating h5Seurat file for version 3.1.5.9900\n",
      "\n",
      "Adding X as data\n",
      "\n",
      "Adding X as counts\n",
      "\n",
      "Adding meta.features from var\n",
      "\n"
     ]
    },
    {
     "name": "stdout",
     "output_type": "stream",
     "text": [
      "[1] \"PVneg\"\n",
      "[1] \"/fast/AG_Huebner/huebner3/ANALYSES/20190926_gp_BadOyenhausen/scanpy/20210302/Cellchat/global_all_ANNOTATED_CELLSTATES_RAW_V6_PVneg.h5ad\"\n"
     ]
    },
    {
     "name": "stderr",
     "output_type": "stream",
     "text": [
      "Warning message:\n",
      "“Unknown file type: h5ad”\n",
      "Warning message:\n",
      "“'assay' not set, setting to 'RNA'”\n",
      "Creating h5Seurat file for version 3.1.5.9900\n",
      "\n",
      "Adding X as data\n",
      "\n",
      "Adding X as counts\n",
      "\n",
      "Adding meta.features from var\n",
      "\n"
     ]
    },
    {
     "ename": "ERROR",
     "evalue": "Error in dfile$obj_copy_from(src_loc = source, src_name = \"obs\", dst_name = \"meta.data\"): HDF5-API Errors:\n    error #000: H5Ocopy.c in H5Ocopy(): line 233: unable to copy object\n        class: HDF5\n        major: Object header\n        minor: Unable to copy object\n\n    error #001: H5Ocopy.c in H5O__copy(): line 317: unable to copy object\n        class: HDF5\n        major: Object header\n        minor: Unable to copy object\n\n    error #002: H5Ocopy.c in H5O__copy_obj(): line 1221: unable to copy object\n        class: HDF5\n        major: Object header\n        minor: Unable to copy object\n\n    error #003: H5Ocopy.c in H5O__copy_header(): line 1165: unable to copy object\n        class: HDF5\n        major: Object header\n        minor: Unable to copy object\n\n    error #004: H5Ocopy.c in H5O__copy_header_real(): line 872: unable to perform 'post copy' operation on message\n        class: HDF5\n        major: Object header\n        minor: Unable to initialize object\n\n    error #005: H5Ostab.c in H5O__stab_post_copy_file(): line 403: iteration operator failed\n        class: HDF5\n      \n",
     "output_type": "error",
     "traceback": [
      "Error in dfile$obj_copy_from(src_loc = source, src_name = \"obs\", dst_name = \"meta.data\"): HDF5-API Errors:\n    error #000: H5Ocopy.c in H5Ocopy(): line 233: unable to copy object\n        class: HDF5\n        major: Object header\n        minor: Unable to copy object\n\n    error #001: H5Ocopy.c in H5O__copy(): line 317: unable to copy object\n        class: HDF5\n        major: Object header\n        minor: Unable to copy object\n\n    error #002: H5Ocopy.c in H5O__copy_obj(): line 1221: unable to copy object\n        class: HDF5\n        major: Object header\n        minor: Unable to copy object\n\n    error #003: H5Ocopy.c in H5O__copy_header(): line 1165: unable to copy object\n        class: HDF5\n        major: Object header\n        minor: Unable to copy object\n\n    error #004: H5Ocopy.c in H5O__copy_header_real(): line 872: unable to perform 'post copy' operation on message\n        class: HDF5\n        major: Object header\n        minor: Unable to initialize object\n\n    error #005: H5Ostab.c in H5O__stab_post_copy_file(): line 403: iteration operator failed\n        class: HDF5\n      \nTraceback:\n",
      "1. Convert(INFILE, dest = \"h5seurat\", overwrite = TRUE, verbose = TRUE)",
      "2. Convert.character(INFILE, dest = \"h5seurat\", overwrite = TRUE, \n .     verbose = TRUE)",
      "3. Convert(source = hfile, dest = dest, assay = assay, overwrite = overwrite, \n .     verbose = verbose, ...)",
      "4. Convert.H5File(source = hfile, dest = dest, assay = assay, overwrite = overwrite, \n .     verbose = verbose, ...)",
      "5. H5ADToH5Seurat(source = source, dest = dest, assay = assay, overwrite = overwrite, \n .     verbose = verbose)",
      "6. dfile$obj_copy_from(src_loc = source, src_name = \"obs\", dst_name = \"meta.data\")"
     ]
    }
   ],
   "source": [
    "for(GENE in c('TTN','RBM20','LMNA','PVneg','PKP2','control')){\n",
    "    print(GENE)\n",
    "    INFILE <- paste(OUTDIR, PREFIX, GENE, SUFFIX, sep='')\n",
    "    print(INFILE)\n",
    "    Convert(INFILE, dest = \"h5seurat\", overwrite = TRUE, verbose=TRUE)\n",
    "}"
   ]
  },
  {
   "cell_type": "code",
   "execution_count": 8,
   "metadata": {},
   "outputs": [
    {
     "name": "stdout",
     "output_type": "stream",
     "text": [
      "[1] \"PVneg\"\n",
      "[1] \"/fast/AG_Huebner/huebner3/ANALYSES/20190926_gp_BadOyenhausen/scanpy/20210302/Cellchat/global_all_ANNOTATED_CELLSTATES_RAW_V6_PVneg.h5ad\"\n"
     ]
    },
    {
     "name": "stderr",
     "output_type": "stream",
     "text": [
      "Warning message:\n",
      "“Unknown file type: h5ad”\n",
      "Warning message:\n",
      "“'assay' not set, setting to 'RNA'”\n",
      "Creating h5Seurat file for version 3.1.5.9900\n",
      "\n",
      "Adding X as data\n",
      "\n",
      "Adding X as counts\n",
      "\n",
      "Adding meta.features from var\n",
      "\n"
     ]
    },
    {
     "name": "stdout",
     "output_type": "stream",
     "text": [
      "[1] \"PKP2\"\n",
      "[1] \"/fast/AG_Huebner/huebner3/ANALYSES/20190926_gp_BadOyenhausen/scanpy/20210302/Cellchat/global_all_ANNOTATED_CELLSTATES_RAW_V6_PKP2.h5ad\"\n"
     ]
    },
    {
     "name": "stderr",
     "output_type": "stream",
     "text": [
      "Warning message:\n",
      "“Unknown file type: h5ad”\n",
      "Warning message:\n",
      "“'assay' not set, setting to 'RNA'”\n",
      "Creating h5Seurat file for version 3.1.5.9900\n",
      "\n",
      "Adding X as data\n",
      "\n",
      "Adding X as counts\n",
      "\n",
      "Adding meta.features from var\n",
      "\n"
     ]
    },
    {
     "name": "stdout",
     "output_type": "stream",
     "text": [
      "[1] \"control\"\n",
      "[1] \"/fast/AG_Huebner/huebner3/ANALYSES/20190926_gp_BadOyenhausen/scanpy/20210302/Cellchat/global_all_ANNOTATED_CELLSTATES_RAW_V6_control.h5ad\"\n"
     ]
    },
    {
     "name": "stderr",
     "output_type": "stream",
     "text": [
      "Warning message:\n",
      "“Unknown file type: h5ad”\n",
      "Warning message:\n",
      "“'assay' not set, setting to 'RNA'”\n",
      "Creating h5Seurat file for version 3.1.5.9900\n",
      "\n",
      "Adding X as data\n",
      "\n",
      "Adding X as counts\n",
      "\n",
      "Adding meta.features from var\n",
      "\n"
     ]
    }
   ],
   "source": [
    "for(GENE in c('PVneg','PKP2','control')){\n",
    "    print(GENE)\n",
    "    INFILE <- paste(OUTDIR, PREFIX, GENE, SUFFIX, sep='')\n",
    "    print(INFILE)\n",
    "    Convert(INFILE, dest = \"h5seurat\", overwrite = TRUE, verbose=TRUE)\n",
    "}"
   ]
  },
  {
   "cell_type": "code",
   "execution_count": 11,
   "metadata": {},
   "outputs": [
    {
     "name": "stdout",
     "output_type": "stream",
     "text": [
      "[1] \"PLN\"\n",
      "[1] \"/fast/AG_Huebner/huebner3/ANALYSES/20190926_gp_BadOyenhausen/scanpy/20210302/Cellchat/global_all_ANNOTATED_CELLSTATES_RAW_V6_PLN.h5ad\"\n"
     ]
    },
    {
     "name": "stderr",
     "output_type": "stream",
     "text": [
      "Warning message:\n",
      "“Unknown file type: h5ad”\n",
      "Warning message:\n",
      "“'assay' not set, setting to 'RNA'”\n",
      "Creating h5Seurat file for version 3.1.5.9900\n",
      "\n",
      "Adding X as data\n",
      "\n",
      "Adding X as counts\n",
      "\n",
      "Adding meta.features from var\n",
      "\n"
     ]
    }
   ],
   "source": [
    "for(GENE in c('PLN')){\n",
    "    print(GENE)\n",
    "    INFILE <- paste(OUTDIR, PREFIX, GENE, SUFFIX, sep='')\n",
    "    print(INFILE)\n",
    "    Convert(INFILE, dest = \"h5seurat\", overwrite = TRUE, verbose=TRUE)\n",
    "}"
   ]
  },
  {
   "cell_type": "code",
   "execution_count": 12,
   "metadata": {},
   "outputs": [],
   "source": [
    "SUFFIX <- '.h5seurat'"
   ]
  },
  {
   "cell_type": "code",
   "execution_count": 13,
   "metadata": {},
   "outputs": [
    {
     "name": "stdout",
     "output_type": "stream",
     "text": [
      "[1] \"TTN\"\n",
      "[1] \"/fast/AG_Huebner/huebner3/ANALYSES/20190926_gp_BadOyenhausen/scanpy/20210302/Cellchat/global_all_ANNOTATED_CELLSTATES_RAW_V6_TTN.h5seurat\"\n"
     ]
    },
    {
     "name": "stderr",
     "output_type": "stream",
     "text": [
      "Validating h5Seurat file\n",
      "\n",
      "Initializing RNA with data\n",
      "\n",
      "Adding counts for RNA\n",
      "\n",
      "Adding feature-level metadata for RNA\n",
      "\n",
      "Adding command information\n",
      "\n",
      "Adding cell-level metadata\n",
      "\n",
      "Adding miscellaneous information\n",
      "\n",
      "Adding tool-specific results\n",
      "\n"
     ]
    },
    {
     "name": "stdout",
     "output_type": "stream",
     "text": [
      "[1] \"RBM20\"\n",
      "[1] \"/fast/AG_Huebner/huebner3/ANALYSES/20190926_gp_BadOyenhausen/scanpy/20210302/Cellchat/global_all_ANNOTATED_CELLSTATES_RAW_V6_RBM20.h5seurat\"\n"
     ]
    },
    {
     "name": "stderr",
     "output_type": "stream",
     "text": [
      "Validating h5Seurat file\n",
      "\n",
      "Initializing RNA with data\n",
      "\n",
      "Adding counts for RNA\n",
      "\n",
      "Adding feature-level metadata for RNA\n",
      "\n",
      "Adding command information\n",
      "\n",
      "Adding cell-level metadata\n",
      "\n",
      "Adding miscellaneous information\n",
      "\n",
      "Adding tool-specific results\n",
      "\n"
     ]
    },
    {
     "name": "stdout",
     "output_type": "stream",
     "text": [
      "[1] \"LMNA\"\n",
      "[1] \"/fast/AG_Huebner/huebner3/ANALYSES/20190926_gp_BadOyenhausen/scanpy/20210302/Cellchat/global_all_ANNOTATED_CELLSTATES_RAW_V6_LMNA.h5seurat\"\n"
     ]
    },
    {
     "name": "stderr",
     "output_type": "stream",
     "text": [
      "Validating h5Seurat file\n",
      "\n",
      "Initializing RNA with data\n",
      "\n",
      "Adding counts for RNA\n",
      "\n",
      "Adding feature-level metadata for RNA\n",
      "\n",
      "Adding command information\n",
      "\n",
      "Adding cell-level metadata\n",
      "\n",
      "Adding miscellaneous information\n",
      "\n",
      "Adding tool-specific results\n",
      "\n"
     ]
    },
    {
     "name": "stdout",
     "output_type": "stream",
     "text": [
      "[1] \"PVneg\"\n",
      "[1] \"/fast/AG_Huebner/huebner3/ANALYSES/20190926_gp_BadOyenhausen/scanpy/20210302/Cellchat/global_all_ANNOTATED_CELLSTATES_RAW_V6_PVneg.h5seurat\"\n"
     ]
    },
    {
     "name": "stderr",
     "output_type": "stream",
     "text": [
      "Validating h5Seurat file\n",
      "\n",
      "Initializing RNA with data\n",
      "\n",
      "Adding counts for RNA\n",
      "\n",
      "Adding feature-level metadata for RNA\n",
      "\n",
      "Adding command information\n",
      "\n",
      "Adding cell-level metadata\n",
      "\n",
      "Adding miscellaneous information\n",
      "\n",
      "Adding tool-specific results\n",
      "\n"
     ]
    },
    {
     "name": "stdout",
     "output_type": "stream",
     "text": [
      "[1] \"PKP2\"\n",
      "[1] \"/fast/AG_Huebner/huebner3/ANALYSES/20190926_gp_BadOyenhausen/scanpy/20210302/Cellchat/global_all_ANNOTATED_CELLSTATES_RAW_V6_PKP2.h5seurat\"\n"
     ]
    },
    {
     "name": "stderr",
     "output_type": "stream",
     "text": [
      "Validating h5Seurat file\n",
      "\n",
      "Initializing RNA with data\n",
      "\n",
      "Adding counts for RNA\n",
      "\n",
      "Adding feature-level metadata for RNA\n",
      "\n",
      "Adding command information\n",
      "\n",
      "Adding cell-level metadata\n",
      "\n",
      "Adding miscellaneous information\n",
      "\n",
      "Adding tool-specific results\n",
      "\n"
     ]
    },
    {
     "name": "stdout",
     "output_type": "stream",
     "text": [
      "[1] \"control\"\n",
      "[1] \"/fast/AG_Huebner/huebner3/ANALYSES/20190926_gp_BadOyenhausen/scanpy/20210302/Cellchat/global_all_ANNOTATED_CELLSTATES_RAW_V6_control.h5seurat\"\n"
     ]
    },
    {
     "name": "stderr",
     "output_type": "stream",
     "text": [
      "Validating h5Seurat file\n",
      "\n",
      "Initializing RNA with data\n",
      "\n",
      "Adding counts for RNA\n",
      "\n",
      "Adding feature-level metadata for RNA\n",
      "\n",
      "Adding command information\n",
      "\n",
      "Adding cell-level metadata\n",
      "\n",
      "Adding miscellaneous information\n",
      "\n",
      "Adding tool-specific results\n",
      "\n"
     ]
    }
   ],
   "source": [
    "for(GENE in c('TTN','RBM20','LMNA','PVneg','PKP2','control')){\n",
    "    print(GENE)\n",
    "    INFILE <- paste(OUTDIR, PREFIX, GENE, SUFFIX, sep='')\n",
    "    OUTFILE <- paste(OUTDIR, PREFIX, GENE, \".rds\", sep='')\n",
    "    print(INFILE)\n",
    "    x <- LoadH5Seurat(INFILE)\n",
    "    saveRDS(x, OUTFILE)\n",
    "}"
   ]
  },
  {
   "cell_type": "code",
   "execution_count": null,
   "metadata": {},
   "outputs": [],
   "source": []
  }
 ],
 "metadata": {
  "kernelspec": {
   "display_name": "R",
   "language": "R",
   "name": "ir"
  },
  "language_info": {
   "codemirror_mode": "r",
   "file_extension": ".r",
   "mimetype": "text/x-r-source",
   "name": "R",
   "pygments_lexer": "r",
   "version": "3.6.1"
  }
 },
 "nbformat": 4,
 "nbformat_minor": 4
}
