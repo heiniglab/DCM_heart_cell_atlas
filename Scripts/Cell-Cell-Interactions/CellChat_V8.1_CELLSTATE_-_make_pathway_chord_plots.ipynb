{
 "cells": [
  {
   "cell_type": "markdown",
   "metadata": {},
   "source": [
    "# CellChat analysis of Global DCM object"
   ]
  },
  {
   "cell_type": "code",
   "execution_count": 1,
   "metadata": {},
   "outputs": [],
   "source": [
    "suppressMessages({\n",
    "    library(plyr)\n",
    "    library(CellChat)\n",
    "    library(patchwork)\n",
    "    library(SeuratDisk)\n",
    "    library(Seurat)\n",
    "    library(SingleCellExperiment)\n",
    "    library(ggalluvial)\n",
    "    library(repr)\n",
    "    library(ggplot2)\n",
    "    library(RColorBrewer)\n",
    "    library(cluster)\n",
    "    #library(dendextend)\n",
    " })\n",
    "options(stringsAsFactors = FALSE)"
   ]
  },
  {
   "cell_type": "code",
   "execution_count": 2,
   "metadata": {},
   "outputs": [
    {
     "name": "stderr",
     "output_type": "stream",
     "text": [
      "Loading required package: grid\n",
      "\n",
      "========================================\n",
      "ComplexHeatmap version 2.6.2\n",
      "Bioconductor page: http://bioconductor.org/packages/ComplexHeatmap/\n",
      "Github page: https://github.com/jokergoo/ComplexHeatmap\n",
      "Documentation: http://jokergoo.github.io/ComplexHeatmap-reference\n",
      "\n",
      "If you use it in published research, please cite:\n",
      "Gu, Z. Complex heatmaps reveal patterns and correlations in multidimensional \n",
      "  genomic data. Bioinformatics 2016.\n",
      "\n",
      "This message can be suppressed by:\n",
      "  suppressPackageStartupMessages(library(ComplexHeatmap))\n",
      "========================================\n",
      "\n",
      "\n"
     ]
    }
   ],
   "source": [
    "library(ComplexHeatmap)"
   ]
  },
  {
   "cell_type": "code",
   "execution_count": 3,
   "metadata": {},
   "outputs": [
    {
     "data": {
      "text/plain": [
       "R version 4.0.5 (2021-03-31)\n",
       "Platform: x86_64-conda-linux-gnu (64-bit)\n",
       "Running under: Ubuntu 20.04.1 LTS\n",
       "\n",
       "Matrix products: default\n",
       "BLAS/LAPACK: /home/jovyan/my-conda-envs/R4.0.5_CellChat/lib/libopenblasp-r0.3.15.so\n",
       "\n",
       "locale:\n",
       " [1] LC_CTYPE=en_US.UTF-8       LC_NUMERIC=C              \n",
       " [3] LC_TIME=en_US.UTF-8        LC_COLLATE=en_US.UTF-8    \n",
       " [5] LC_MONETARY=en_US.UTF-8    LC_MESSAGES=en_US.UTF-8   \n",
       " [7] LC_PAPER=en_US.UTF-8       LC_NAME=C                 \n",
       " [9] LC_ADDRESS=C               LC_TELEPHONE=C            \n",
       "[11] LC_MEASUREMENT=en_US.UTF-8 LC_IDENTIFICATION=C       \n",
       "\n",
       "attached base packages:\n",
       " [1] grid      stats4    parallel  stats     graphics  grDevices utils    \n",
       " [8] datasets  methods   base     \n",
       "\n",
       "other attached packages:\n",
       " [1] ComplexHeatmap_2.6.2        cluster_2.1.2              \n",
       " [3] RColorBrewer_1.1-2          repr_1.1.3                 \n",
       " [5] ggalluvial_0.12.3           SingleCellExperiment_1.12.0\n",
       " [7] SummarizedExperiment_1.20.0 GenomicRanges_1.42.0       \n",
       " [9] GenomeInfoDb_1.26.4         IRanges_2.24.1             \n",
       "[11] S4Vectors_0.28.1            MatrixGenerics_1.2.1       \n",
       "[13] matrixStats_0.59.0          SeuratObject_4.0.2         \n",
       "[15] Seurat_4.0.3                SeuratDisk_0.0.0.9019      \n",
       "[17] patchwork_1.1.1             CellChat_1.1.1             \n",
       "[19] Biobase_2.50.0              BiocGenerics_0.36.0        \n",
       "[21] ggplot2_3.3.5               igraph_1.2.6               \n",
       "[23] dplyr_1.0.7                 plyr_1.8.6                 \n",
       "\n",
       "loaded via a namespace (and not attached):\n",
       "  [1] uuid_0.1-4             circlize_0.4.13        systemfonts_1.0.2     \n",
       "  [4] NMF_0.23.0             lazyeval_0.2.2         splines_4.0.5         \n",
       "  [7] listenv_0.8.0          scattermore_0.7        gridBase_0.4-7        \n",
       " [10] digest_0.6.27          foreach_1.5.1          htmltools_0.5.1.1     \n",
       " [13] fansi_0.5.0            magrittr_2.0.1         tensor_1.5            \n",
       " [16] doParallel_1.0.16      ROCR_1.0-11            sna_2.6               \n",
       " [19] globals_0.14.0         gg.gap_1.3             svglite_2.0.0         \n",
       " [22] spatstat.sparse_2.0-0  colorspace_2.0-2       ggrepel_0.9.1         \n",
       " [25] RCurl_1.98-1.3         crayon_1.4.1           jsonlite_1.7.2        \n",
       " [28] spatstat.data_2.1-0    survival_3.2-11        zoo_1.8-9             \n",
       " [31] iterators_1.0.13       glue_1.4.2             polyclip_1.10-0       \n",
       " [34] registry_0.5-1         gtable_0.3.0           zlibbioc_1.36.0       \n",
       " [37] XVector_0.30.0         leiden_0.3.8           DelayedArray_0.16.3   \n",
       " [40] GetoptLong_1.0.5       future.apply_1.7.0     shape_1.4.6           \n",
       " [43] abind_1.4-5            scales_1.1.1           rngtools_1.5          \n",
       " [46] miniUI_0.1.1.1         Rcpp_1.0.6             viridisLite_0.4.0     \n",
       " [49] xtable_1.8-4           clue_0.3-59            reticulate_1.20       \n",
       " [52] spatstat.core_2.2-0    bit_4.0.4              htmlwidgets_1.5.3     \n",
       " [55] httr_1.4.2             FNN_1.1.3              ellipsis_0.3.2        \n",
       " [58] ica_1.0-2              pkgconfig_2.0.3        uwot_0.1.10           \n",
       " [61] deldir_0.2-10          utf8_1.2.1             tidyselect_1.1.1      \n",
       " [64] rlang_0.4.11           reshape2_1.4.4         later_1.2.0           \n",
       " [67] munsell_0.5.0          tools_4.0.5            cli_3.0.0             \n",
       " [70] generics_0.1.0         statnet.common_4.5.0   ggridges_0.5.3        \n",
       " [73] evaluate_0.14          stringr_1.4.0          fastmap_1.1.0         \n",
       " [76] goftest_1.2-2          bit64_4.0.5            fitdistrplus_1.1-5    \n",
       " [79] purrr_0.3.4            RANN_2.6.1             nlme_3.1-152          \n",
       " [82] pbapply_1.4-3          future_1.21.0          mime_0.11             \n",
       " [85] hdf5r_1.3.3            compiler_4.0.5         plotly_4.9.4.1        \n",
       " [88] png_0.1-7              spatstat.utils_2.2-0   tibble_3.1.2          \n",
       " [91] stringi_1.6.2          RSpectra_0.16-0        lattice_0.20-44       \n",
       " [94] IRdisplay_1.0          Matrix_1.3-4           vctrs_0.3.8           \n",
       " [97] pillar_1.6.1           lifecycle_1.0.0        spatstat.geom_2.2-0   \n",
       "[100] lmtest_0.9-38          GlobalOptions_0.1.2    RcppAnnoy_0.0.18      \n",
       "[103] bitops_1.0-7           data.table_1.14.0      cowplot_1.1.1         \n",
       "[106] irlba_2.3.3            httpuv_1.6.1           R6_2.5.0              \n",
       "[109] promises_1.2.0.1       network_1.17.1         KernSmooth_2.23-20    \n",
       "[112] gridExtra_2.3          parallelly_1.26.1      codetools_0.2-18      \n",
       "[115] MASS_7.3-54            assertthat_0.2.1       pkgmaker_0.32.2       \n",
       "[118] rjson_0.2.20           withr_2.4.2            sctransform_0.3.2     \n",
       "[121] GenomeInfoDbData_1.2.4 mgcv_1.8-36            rpart_4.1-15          \n",
       "[124] IRkernel_1.2           tidyr_1.1.3            coda_0.19-4           \n",
       "[127] Cairo_1.5-12.2         Rtsne_0.15             pbdZMQ_0.3-5          \n",
       "[130] shiny_1.6.0            base64enc_0.1-3       "
      ]
     },
     "metadata": {},
     "output_type": "display_data"
    }
   ],
   "source": [
    "sessionInfo()"
   ]
  },
  {
   "cell_type": "raw",
   "metadata": {
    "jupyter": {
     "source_hidden": true
    },
    "tags": []
   },
   "source": [
    "mergeInteractionsUnique <- function(object, group.merged) {\n",
    "  if (!is.factor(group.merged)) {\n",
    "    group.merged <- factor(group.merged)\n",
    "  }\n",
    "\n",
    "\n",
    "  count <- object@net$count\n",
    "  count.unique <- matrix(0, nrow = nlevels(group.merged), ncol = nlevels(group.merged))\n",
    "  rownames(count.unique) <- levels(group.merged); colnames(count.unique) <- levels(group.merged);\n",
    "  \n",
    "  for (i in levels(group.merged)) {\n",
    "    for (j in levels(group.merged)) {\n",
    "\t  if (sum(group.merged == i) > 1 && sum(group.merged == j) > 1){\n",
    "\t\tcount.unique[i, j] <- sum(apply((object@net$prob[group.merged == i, group.merged == j,] > 0), 3, sum) > 0)\n",
    "\t  } else if (sum(group.merged == i) > 1 || sum(group.merged == j) > 1) {\n",
    "\t\tcount.unique[i, j] <- sum(apply((object@net$prob[group.merged == i, group.merged == j,] > 0), 2, sum) > 0)\n",
    "\t  } else {\n",
    "\t\tcount.unique[i, j] <- sum((object@net$prob[group.merged == i, group.merged == j,] > 0) > 0)\n",
    "\t  }\n",
    "    }\n",
    "  }\n",
    "  object@net$count.unique <- count.unique\n",
    "  return(object)\n",
    "}"
   ]
  },
  {
   "cell_type": "raw",
   "metadata": {
    "jupyter": {
     "source_hidden": true
    },
    "tags": []
   },
   "source": [
    "aggregateNet <- function(object, sources.use = NULL, targets.use = NULL, signaling = NULL, pairLR.use = NULL, remove.isolate = TRUE, thresh = 0.05, return.object = TRUE) {\n",
    "  net <- object@net\n",
    "  if (is.null(sources.use) & is.null(targets.use) & is.null(signaling) & is.null(pairLR.use)) {\n",
    "    prob <- net$prob\n",
    "    pval <- net$pval\n",
    "    pval[prob == 0] <- 1\n",
    "    prob[pval >= thresh] <- 0\n",
    "    net$count <- apply(prob > 0, c(1,2), sum)\n",
    "    net$weight <- apply(prob, c(1,2), sum)\n",
    "    net$weight[is.na(net$weight)] <- 0\n",
    "    net$count[is.na(net$count)] <- 0\n",
    "  } else {\n",
    "    df.net <- subsetCommunication(object, slot.name = \"net\",\n",
    "                                  sources.use = sources.use, targets.use = targets.use,\n",
    "                                  signaling = signaling,\n",
    "                                  pairLR.use = pairLR.use,\n",
    "                                  thresh = thresh)\n",
    "    df.net$source_target <- paste(df.net$source, df.net$target, sep = \":\")\n",
    "    df.net2 <- df.net %>% group_by(source_target) %>% summarize(count = n(), .groups = 'drop')\n",
    "    df.net3 <- df.net %>% group_by(source_target) %>% summarize(prob = sum(prob), .groups = 'drop')\n",
    "    df.net2$prob <- df.net3$prob\n",
    "    a <- stringr::str_split(df.net2$source_target, \":\", simplify = T)\n",
    "    df.net2$source <- as.character(a[, 1])\n",
    "    df.net2$target <- as.character(a[, 2])\n",
    "    cells.level <- levels(object@idents)\n",
    "    if (remove.isolate) {\n",
    "      message(\"Isolate cell groups without any interactions are removed. To block it, set `remove.isolate = FALSE`\")\n",
    "      df.net2$source <- factor(df.net2$source, levels = cells.level[cells.level %in% unique(df.net2$source)])\n",
    "      df.net2$target <- factor(df.net2$target, levels = cells.level[cells.level %in% unique(df.net2$target)])\n",
    "    } else {\n",
    "      df.net2$source <- factor(df.net2$source, levels = cells.level)\n",
    "      df.net2$target <- factor(df.net2$target, levels = cells.level)\n",
    "    }\n",
    "\n",
    "    count <- tapply(df.net2[[\"count\"]], list(df.net2[[\"source\"]], df.net2[[\"target\"]]), sum)\n",
    "    prob <- tapply(df.net2[[\"prob\"]], list(df.net2[[\"source\"]], df.net2[[\"target\"]]), sum)\n",
    "    net$count <- count\n",
    "    net$weight <- prob\n",
    "    net$weight[is.na(net$weight)] <- 0\n",
    "    net$count[is.na(net$count)] <- 0\n",
    "  }\n",
    "  if (return.object) {\n",
    "    object@net <- net\n",
    "    return(object)\n",
    "  } else {\n",
    "    return(net)\n",
    "  }\n",
    "\n",
    "}"
   ]
  },
  {
   "cell_type": "raw",
   "metadata": {
    "jupyter": {
     "source_hidden": true
    },
    "tags": []
   },
   "source": [
    "mergeInteractions <- function(object, group.merged) {\n",
    "  if (!is.factor(group.merged)) {\n",
    "    group.merged <- factor(group.merged)\n",
    "  }\n",
    "  count <- object@net$count\n",
    "  count.merged <- matrix(0, nrow = nlevels(group.merged), ncol = nlevels(group.merged))\n",
    "  rownames(count.merged) <- levels(group.merged); colnames(count.merged) <- levels(group.merged);\n",
    "  weight <- object@net$weight\n",
    "  weight.merged <- count.merged\n",
    "  dimnames(weight.merged) <- dimnames(count.merged)\n",
    "  for (i in levels(group.merged)) {\n",
    "    for (j in levels(group.merged)) {\n",
    "      weight.merged[i, j] <- sum(weight[group.merged == i, group.merged == j])\n",
    "\t  if (sum(group.merged == i) > 1 && sum(group.merged == j) > 1){\n",
    "\t\tcount.merged[i, j] <- sum(apply((object@net$prob[group.merged == i, group.merged == j,] > 0), 3, sum) > 0)\n",
    "\t  } else if (sum(group.merged == i) > 1 || sum(group.merged == j) > 1) {\n",
    "\t\tcount.merged[i, j] <- sum(apply((object@net$prob[group.merged == i, group.merged == j,] > 0), 2, sum) > 0)\n",
    "\t  } else {\n",
    "\t\tcount.merged[i, j] <- sum((object@net$prob[group.merged == i, group.merged == j,] > 0) > 0)\n",
    "\t  }\n",
    "    }\n",
    "  }\n",
    "  object@net$count.merged <- count.merged\n",
    "  object@net$weight.merged <- weight.merged\n",
    "  object@net$group.merged <- group.merged\n",
    "  return(object)\n",
    "}"
   ]
  },
  {
   "cell_type": "code",
   "execution_count": 4,
   "metadata": {},
   "outputs": [],
   "source": [
    "#options(repr.plot.width = 7, repr.plot.height = 7)\n",
    "options(repr.plot.width = 12, repr.plot.height = 12)"
   ]
  },
  {
   "cell_type": "code",
   "execution_count": 5,
   "metadata": {},
   "outputs": [],
   "source": [
    "'%!in%' <- function(x,y)!('%in%'(x,y))"
   ]
  },
  {
   "cell_type": "code",
   "execution_count": 6,
   "metadata": {},
   "outputs": [],
   "source": [
    "options(future.globals.maxSize = 20000 * 1024 ^ 2)"
   ]
  },
  {
   "cell_type": "code",
   "execution_count": 7,
   "metadata": {},
   "outputs": [
    {
     "data": {
      "text/html": [
       "'/home/jovyan/globus/CellChat/ALL_CELLSTATE_V8.1_out'"
      ],
      "text/latex": [
       "'/home/jovyan/globus/CellChat/ALL\\_CELLSTATE\\_V8.1\\_out'"
      ],
      "text/markdown": [
       "'/home/jovyan/globus/CellChat/ALL_CELLSTATE_V8.1_out'"
      ],
      "text/plain": [
       "[1] \"/home/jovyan/globus/CellChat/ALL_CELLSTATE_V8.1_out\""
      ]
     },
     "metadata": {},
     "output_type": "display_data"
    }
   ],
   "source": [
    "OUTDIR <- \"/home/jovyan/globus/CellChat/ALL_CELLSTATE_V8.1_out/\"\n",
    "dir.create(OUTDIR, showWarnings = FALSE)\n",
    "setwd(OUTDIR)\n",
    "getwd()"
   ]
  },
  {
   "cell_type": "code",
   "execution_count": 8,
   "metadata": {},
   "outputs": [],
   "source": [
    "INDIR <- \"/home/jovyan/globus/CellChat/CellChat_V8.1\""
   ]
  },
  {
   "cell_type": "code",
   "execution_count": 9,
   "metadata": {},
   "outputs": [],
   "source": [
    "cellchat.PKP2.RV <- readRDS(file = file.path(INDIR, \"cellchat_global_V8_PKP2_RV_CELLSTATES.rds\"))"
   ]
  },
  {
   "cell_type": "code",
   "execution_count": 10,
   "metadata": {},
   "outputs": [],
   "source": [
    "cellchat.TTN.RV <- readRDS(file = file.path(INDIR, \"cellchat_global_V8_TTN_RV_CELLSTATES.rds\"))"
   ]
  },
  {
   "cell_type": "code",
   "execution_count": 11,
   "metadata": {},
   "outputs": [],
   "source": [
    "cellchat.RBM20.RV <- readRDS(file = file.path(INDIR, \"cellchat_global_V8_RBM20_RV_CELLSTATES.rds\"))"
   ]
  },
  {
   "cell_type": "code",
   "execution_count": 12,
   "metadata": {},
   "outputs": [],
   "source": [
    "cellchat.LMNA.RV <- readRDS(file = file.path(INDIR, \"cellchat_global_V8_LMNA_RV_CELLSTATES.rds\"))"
   ]
  },
  {
   "cell_type": "code",
   "execution_count": 13,
   "metadata": {},
   "outputs": [],
   "source": [
    "cellchat.PVneg.RV <- readRDS(file = file.path(INDIR, \"cellchat_global_V8_PVneg_RV_CELLSTATES.rds\"))"
   ]
  },
  {
   "cell_type": "code",
   "execution_count": 14,
   "metadata": {},
   "outputs": [],
   "source": [
    "cellchat.control.RV <- readRDS(file = file.path(INDIR, \"cellchat_global_V8_control_RV_CELLSTATES.rds\"))"
   ]
  },
  {
   "cell_type": "code",
   "execution_count": 15,
   "metadata": {},
   "outputs": [],
   "source": [
    "cellchat.PKP2.LV <- readRDS(file = file.path(INDIR, \"cellchat_global_V8_PKP2_LV_CELLSTATES.rds\"))"
   ]
  },
  {
   "cell_type": "code",
   "execution_count": 16,
   "metadata": {},
   "outputs": [],
   "source": [
    "cellchat.TTN.LV <- readRDS(file = file.path(INDIR, \"cellchat_global_V8_TTN_LV_CELLSTATES.rds\"))"
   ]
  },
  {
   "cell_type": "code",
   "execution_count": 17,
   "metadata": {},
   "outputs": [],
   "source": [
    "cellchat.RBM20.LV <- readRDS(file = file.path(INDIR, \"cellchat_global_V8_RBM20_LV_CELLSTATES.rds\"))"
   ]
  },
  {
   "cell_type": "code",
   "execution_count": 18,
   "metadata": {},
   "outputs": [],
   "source": [
    "cellchat.LMNA.LV <- readRDS(file = file.path(INDIR, \"cellchat_global_V8_LMNA_LV_CELLSTATES.rds\"))"
   ]
  },
  {
   "cell_type": "code",
   "execution_count": 19,
   "metadata": {},
   "outputs": [],
   "source": [
    "cellchat.PVneg.LV <- readRDS(file = file.path(INDIR, \"cellchat_global_V8_PVneg_LV_CELLSTATES.rds\"))"
   ]
  },
  {
   "cell_type": "code",
   "execution_count": 20,
   "metadata": {},
   "outputs": [],
   "source": [
    "cellchat.control.LV <- readRDS(file = file.path(INDIR, \"cellchat_global_V8_control_LV_CELLSTATES.rds\"))"
   ]
  },
  {
   "cell_type": "code",
   "execution_count": 21,
   "metadata": {
    "tags": []
   },
   "outputs": [
    {
     "data": {
      "application/pdf": "[encoded data removed]",
      "image/jpeg": "[encoded data removed]",
      "image/png": "[encoded data removed]",
      "image/svg+xml": [
       "<?xml version=\"1.0\" encoding=\"UTF-8\"?>\n",
       "<svg xmlns=\"http://www.w3.org/2000/svg\" xmlns:xlink=\"http://www.w3.org/1999/xlink\" width=\"864pt\" height=\"864pt\" viewBox=\"0 0 864 864\" version=\"1.1\">\n",
       "<g id=\"surface50\">\n",
       "</g>\n",
       "</svg>\n"
      ],
      "text/plain": [
       "plot without title"
      ]
     },
     "metadata": {},
     "output_type": "display_data"
    }
   ],
   "source": [
    "pathways.show <- \"IGF\"\n",
    "pdf(file= paste('TEMP_-_', pathways.show, '_LV.pdf', sep=''), width = 12, height = 12)\n",
    "\n",
    "netVisual_aggregate(cellchat.LMNA.LV, layout = 'chord', \n",
    "                    signaling = pathways.show, \n",
    "                    signaling.name = paste(pathways.show, 'LMNA_LV'),\n",
    "                    #group = group.cellType3, \n",
    "                    big.gap = 2.5, small.gap = 0.5,\n",
    "                    edge.width.max = 10,\n",
    "                    vertex.label.cex = 1.8,\n",
    "                    mar = c(5, 5, 5, 5)\n",
    "                   )\n",
    "graphics.off()"
   ]
  },
  {
   "cell_type": "code",
   "execution_count": 22,
   "metadata": {},
   "outputs": [
    {
     "name": "stdout",
     "output_type": "stream",
     "text": [
      "[1] 70\n",
      "[1] 70\n",
      "[1] 69\n",
      "[1] 70\n",
      "[1] 70\n",
      "[1] 70\n",
      "[1] 71\n",
      "[1] 70\n",
      "[1] 70\n",
      "[1] 70\n",
      "[1] 70\n",
      "[1] 70\n"
     ]
    }
   ],
   "source": [
    "print(length(levels(cellchat.control.RV@idents)))\n",
    "print(length(levels(cellchat.LMNA.RV@idents)))\n",
    "print(length(levels(cellchat.PKP2.RV@idents)))\n",
    "print(length(levels(cellchat.TTN.RV@idents)))\n",
    "print(length(levels(cellchat.RBM20.RV@idents)))\n",
    "print(length(levels(cellchat.PVneg.RV@idents)))\n",
    "print(length(levels(cellchat.control.LV@idents)))\n",
    "print(length(levels(cellchat.LMNA.LV@idents)))\n",
    "print(length(levels(cellchat.PKP2.LV@idents)))\n",
    "print(length(levels(cellchat.TTN.LV@idents)))\n",
    "print(length(levels(cellchat.RBM20.LV@idents)))\n",
    "print(length(levels(cellchat.PVneg.LV@idents)))"
   ]
  },
  {
   "cell_type": "code",
   "execution_count": 23,
   "metadata": {},
   "outputs": [
    {
     "name": "stderr",
     "output_type": "stream",
     "text": [
      "The CellChat object will be lifted up using the cell labels AD1.0, AD1.1, AD2, AD3, B, CD4T.act, CD4T.naive, CD4T.reg, CD8T.cytox, CD8T.em, CD8T.te, CD8T.te.IFNGhi, CD8T.trans, EC1.0, EC2.0, EC5.0, EC6.0, EC7.0, EC8.0, ILC, MAIT-like, MO.CD16, MO.VCAN, MP.FOLR2, MP.ISG, MP.LYVE1hi/MHCII.intermediate, MP.LYVE1hi/MHCII.lo, MP.LYVE1lo/MHCII.hi, MP.NFkB, MP.OSM, MP.TREM2, MP.transitional, Mast, Meso, NC1.0, NC1.1, NC1.2, NC1.3, NC2, NC3, NC4, NC5, NK.CD16hi, NK.CD16hiIFNGhi, NK.CD56hi, PC1, PC2, PC3, Plasma, SMC1.1, SMC1.2, SMC2, cDC1, cDC2, prolif.Lymphoids, prolif.Myeloids, vCM1.0, vCM1.1, vCM1.2, vCM1.3, vCM2, vCM3.0, vCM3.1, vCM4, vCM5, vFB1.0, vFB1.1, vFB1.2, vFB2, vFB3, vFB4\n",
      "\n"
     ]
    },
    {
     "name": "stdout",
     "output_type": "stream",
     "text": [
      "Update slots object@net, object@netP, object@idents in a single dataset... \n"
     ]
    },
    {
     "name": "stderr",
     "output_type": "stream",
     "text": [
      "The CellChat object will be lifted up using the cell labels AD1.0, AD1.1, AD2, AD3, B, CD4T.act, CD4T.naive, CD4T.reg, CD8T.cytox, CD8T.em, CD8T.te, CD8T.te.IFNGhi, CD8T.trans, EC1.0, EC2.0, EC5.0, EC6.0, EC7.0, EC8.0, ILC, MAIT-like, MO.CD16, MO.VCAN, MP.FOLR2, MP.ISG, MP.LYVE1hi/MHCII.intermediate, MP.LYVE1hi/MHCII.lo, MP.LYVE1lo/MHCII.hi, MP.NFkB, MP.OSM, MP.TREM2, MP.transitional, Mast, Meso, NC1.0, NC1.1, NC1.2, NC1.3, NC2, NC3, NC4, NC5, NK.CD16hi, NK.CD16hiIFNGhi, NK.CD56hi, PC1, PC2, PC3, Plasma, SMC1.1, SMC1.2, SMC2, cDC1, cDC2, prolif.Lymphoids, prolif.Myeloids, vCM1.0, vCM1.1, vCM1.2, vCM1.3, vCM2, vCM3.0, vCM3.1, vCM4, vCM5, vFB1.0, vFB1.1, vFB1.2, vFB2, vFB3, vFB4\n",
      "\n"
     ]
    },
    {
     "name": "stdout",
     "output_type": "stream",
     "text": [
      "Update slots object@net, object@netP, object@idents in a single dataset... \n"
     ]
    },
    {
     "name": "stderr",
     "output_type": "stream",
     "text": [
      "The CellChat object will be lifted up using the cell labels AD1.0, AD1.1, AD2, AD3, B, CD4T.act, CD4T.naive, CD4T.reg, CD8T.cytox, CD8T.em, CD8T.te, CD8T.te.IFNGhi, CD8T.trans, EC1.0, EC2.0, EC5.0, EC6.0, EC7.0, EC8.0, ILC, MAIT-like, MO.CD16, MO.VCAN, MP.FOLR2, MP.ISG, MP.LYVE1hi/MHCII.intermediate, MP.LYVE1hi/MHCII.lo, MP.LYVE1lo/MHCII.hi, MP.NFkB, MP.OSM, MP.TREM2, MP.transitional, Mast, Meso, NC1.0, NC1.1, NC1.2, NC1.3, NC2, NC3, NC4, NC5, NK.CD16hi, NK.CD16hiIFNGhi, NK.CD56hi, PC1, PC2, PC3, Plasma, SMC1.1, SMC1.2, SMC2, cDC1, cDC2, prolif.Lymphoids, prolif.Myeloids, vCM1.0, vCM1.1, vCM1.2, vCM1.3, vCM2, vCM3.0, vCM3.1, vCM4, vCM5, vFB1.0, vFB1.1, vFB1.2, vFB2, vFB3, vFB4\n",
      "\n"
     ]
    },
    {
     "name": "stdout",
     "output_type": "stream",
     "text": [
      "Update slots object@net, object@netP, object@idents in a single dataset... \n"
     ]
    },
    {
     "name": "stderr",
     "output_type": "stream",
     "text": [
      "The CellChat object will be lifted up using the cell labels AD1.0, AD1.1, AD2, AD3, B, CD4T.act, CD4T.naive, CD4T.reg, CD8T.cytox, CD8T.em, CD8T.te, CD8T.te.IFNGhi, CD8T.trans, EC1.0, EC2.0, EC5.0, EC6.0, EC7.0, EC8.0, ILC, MAIT-like, MO.CD16, MO.VCAN, MP.FOLR2, MP.ISG, MP.LYVE1hi/MHCII.intermediate, MP.LYVE1hi/MHCII.lo, MP.LYVE1lo/MHCII.hi, MP.NFkB, MP.OSM, MP.TREM2, MP.transitional, Mast, Meso, NC1.0, NC1.1, NC1.2, NC1.3, NC2, NC3, NC4, NC5, NK.CD16hi, NK.CD16hiIFNGhi, NK.CD56hi, PC1, PC2, PC3, Plasma, SMC1.1, SMC1.2, SMC2, cDC1, cDC2, prolif.Lymphoids, prolif.Myeloids, vCM1.0, vCM1.1, vCM1.2, vCM1.3, vCM2, vCM3.0, vCM3.1, vCM4, vCM5, vFB1.0, vFB1.1, vFB1.2, vFB2, vFB3, vFB4\n",
      "\n"
     ]
    },
    {
     "name": "stdout",
     "output_type": "stream",
     "text": [
      "Update slots object@net, object@netP, object@idents in a single dataset... \n"
     ]
    },
    {
     "name": "stderr",
     "output_type": "stream",
     "text": [
      "The CellChat object will be lifted up using the cell labels AD1.0, AD1.1, AD2, AD3, B, CD4T.act, CD4T.naive, CD4T.reg, CD8T.cytox, CD8T.em, CD8T.te, CD8T.te.IFNGhi, CD8T.trans, EC1.0, EC2.0, EC5.0, EC6.0, EC7.0, EC8.0, ILC, MAIT-like, MO.CD16, MO.VCAN, MP.FOLR2, MP.ISG, MP.LYVE1hi/MHCII.intermediate, MP.LYVE1hi/MHCII.lo, MP.LYVE1lo/MHCII.hi, MP.NFkB, MP.OSM, MP.TREM2, MP.transitional, Mast, Meso, NC1.0, NC1.1, NC1.2, NC1.3, NC2, NC3, NC4, NC5, NK.CD16hi, NK.CD16hiIFNGhi, NK.CD56hi, PC1, PC2, PC3, Plasma, SMC1.1, SMC1.2, SMC2, cDC1, cDC2, prolif.Lymphoids, prolif.Myeloids, vCM1.0, vCM1.1, vCM1.2, vCM1.3, vCM2, vCM3.0, vCM3.1, vCM4, vCM5, vFB1.0, vFB1.1, vFB1.2, vFB2, vFB3, vFB4\n",
      "\n"
     ]
    },
    {
     "name": "stdout",
     "output_type": "stream",
     "text": [
      "Update slots object@net, object@netP, object@idents in a single dataset... \n"
     ]
    },
    {
     "name": "stderr",
     "output_type": "stream",
     "text": [
      "The CellChat object will be lifted up using the cell labels AD1.0, AD1.1, AD2, AD3, B, CD4T.act, CD4T.naive, CD4T.reg, CD8T.cytox, CD8T.em, CD8T.te, CD8T.te.IFNGhi, CD8T.trans, EC1.0, EC2.0, EC5.0, EC6.0, EC7.0, EC8.0, ILC, MAIT-like, MO.CD16, MO.VCAN, MP.FOLR2, MP.ISG, MP.LYVE1hi/MHCII.intermediate, MP.LYVE1hi/MHCII.lo, MP.LYVE1lo/MHCII.hi, MP.NFkB, MP.OSM, MP.TREM2, MP.transitional, Mast, Meso, NC1.0, NC1.1, NC1.2, NC1.3, NC2, NC3, NC4, NC5, NK.CD16hi, NK.CD16hiIFNGhi, NK.CD56hi, PC1, PC2, PC3, Plasma, SMC1.1, SMC1.2, SMC2, cDC1, cDC2, prolif.Lymphoids, prolif.Myeloids, vCM1.0, vCM1.1, vCM1.2, vCM1.3, vCM2, vCM3.0, vCM3.1, vCM4, vCM5, vFB1.0, vFB1.1, vFB1.2, vFB2, vFB3, vFB4\n",
      "\n"
     ]
    },
    {
     "name": "stdout",
     "output_type": "stream",
     "text": [
      "Update slots object@net, object@netP, object@idents in a single dataset... \n"
     ]
    },
    {
     "name": "stderr",
     "output_type": "stream",
     "text": [
      "The CellChat object will be lifted up using the cell labels AD1.0, AD1.1, AD2, AD3, B, CD4T.act, CD4T.naive, CD4T.reg, CD8T.cytox, CD8T.em, CD8T.te, CD8T.te.IFNGhi, CD8T.trans, EC1.0, EC2.0, EC5.0, EC6.0, EC7.0, EC8.0, ILC, MAIT-like, MO.CD16, MO.VCAN, MP.FOLR2, MP.ISG, MP.LYVE1hi/MHCII.intermediate, MP.LYVE1hi/MHCII.lo, MP.LYVE1lo/MHCII.hi, MP.NFkB, MP.OSM, MP.TREM2, MP.transitional, Mast, Meso, NC1.0, NC1.1, NC1.2, NC1.3, NC2, NC3, NC4, NC5, NK.CD16hi, NK.CD16hiIFNGhi, NK.CD56hi, PC1, PC2, PC3, Plasma, SMC1.1, SMC1.2, SMC2, cDC1, cDC2, prolif.Lymphoids, prolif.Myeloids, vCM1.0, vCM1.1, vCM1.2, vCM1.3, vCM2, vCM3.0, vCM3.1, vCM4, vCM5, vFB1.0, vFB1.1, vFB1.2, vFB2, vFB3, vFB4\n",
      "\n"
     ]
    },
    {
     "name": "stdout",
     "output_type": "stream",
     "text": [
      "Update slots object@net, object@netP, object@idents in a single dataset... \n"
     ]
    },
    {
     "name": "stderr",
     "output_type": "stream",
     "text": [
      "The CellChat object will be lifted up using the cell labels AD1.0, AD1.1, AD2, AD3, B, CD4T.act, CD4T.naive, CD4T.reg, CD8T.cytox, CD8T.em, CD8T.te, CD8T.te.IFNGhi, CD8T.trans, EC1.0, EC2.0, EC5.0, EC6.0, EC7.0, EC8.0, ILC, MAIT-like, MO.CD16, MO.VCAN, MP.FOLR2, MP.ISG, MP.LYVE1hi/MHCII.intermediate, MP.LYVE1hi/MHCII.lo, MP.LYVE1lo/MHCII.hi, MP.NFkB, MP.OSM, MP.TREM2, MP.transitional, Mast, Meso, NC1.0, NC1.1, NC1.2, NC1.3, NC2, NC3, NC4, NC5, NK.CD16hi, NK.CD16hiIFNGhi, NK.CD56hi, PC1, PC2, PC3, Plasma, SMC1.1, SMC1.2, SMC2, cDC1, cDC2, prolif.Lymphoids, prolif.Myeloids, vCM1.0, vCM1.1, vCM1.2, vCM1.3, vCM2, vCM3.0, vCM3.1, vCM4, vCM5, vFB1.0, vFB1.1, vFB1.2, vFB2, vFB3, vFB4\n",
      "\n"
     ]
    },
    {
     "name": "stdout",
     "output_type": "stream",
     "text": [
      "Update slots object@net, object@netP, object@idents in a single dataset... \n"
     ]
    },
    {
     "name": "stderr",
     "output_type": "stream",
     "text": [
      "The CellChat object will be lifted up using the cell labels AD1.0, AD1.1, AD2, AD3, B, CD4T.act, CD4T.naive, CD4T.reg, CD8T.cytox, CD8T.em, CD8T.te, CD8T.te.IFNGhi, CD8T.trans, EC1.0, EC2.0, EC5.0, EC6.0, EC7.0, EC8.0, ILC, MAIT-like, MO.CD16, MO.VCAN, MP.FOLR2, MP.ISG, MP.LYVE1hi/MHCII.intermediate, MP.LYVE1hi/MHCII.lo, MP.LYVE1lo/MHCII.hi, MP.NFkB, MP.OSM, MP.TREM2, MP.transitional, Mast, Meso, NC1.0, NC1.1, NC1.2, NC1.3, NC2, NC3, NC4, NC5, NK.CD16hi, NK.CD16hiIFNGhi, NK.CD56hi, PC1, PC2, PC3, Plasma, SMC1.1, SMC1.2, SMC2, cDC1, cDC2, prolif.Lymphoids, prolif.Myeloids, vCM1.0, vCM1.1, vCM1.2, vCM1.3, vCM2, vCM3.0, vCM3.1, vCM4, vCM5, vFB1.0, vFB1.1, vFB1.2, vFB2, vFB3, vFB4\n",
      "\n"
     ]
    },
    {
     "name": "stdout",
     "output_type": "stream",
     "text": [
      "Update slots object@net, object@netP, object@idents in a single dataset... \n"
     ]
    },
    {
     "name": "stderr",
     "output_type": "stream",
     "text": [
      "The CellChat object will be lifted up using the cell labels AD1.0, AD1.1, AD2, AD3, B, CD4T.act, CD4T.naive, CD4T.reg, CD8T.cytox, CD8T.em, CD8T.te, CD8T.te.IFNGhi, CD8T.trans, EC1.0, EC2.0, EC5.0, EC6.0, EC7.0, EC8.0, ILC, MAIT-like, MO.CD16, MO.VCAN, MP.FOLR2, MP.ISG, MP.LYVE1hi/MHCII.intermediate, MP.LYVE1hi/MHCII.lo, MP.LYVE1lo/MHCII.hi, MP.NFkB, MP.OSM, MP.TREM2, MP.transitional, Mast, Meso, NC1.0, NC1.1, NC1.2, NC1.3, NC2, NC3, NC4, NC5, NK.CD16hi, NK.CD16hiIFNGhi, NK.CD56hi, PC1, PC2, PC3, Plasma, SMC1.1, SMC1.2, SMC2, cDC1, cDC2, prolif.Lymphoids, prolif.Myeloids, vCM1.0, vCM1.1, vCM1.2, vCM1.3, vCM2, vCM3.0, vCM3.1, vCM4, vCM5, vFB1.0, vFB1.1, vFB1.2, vFB2, vFB3, vFB4\n",
      "\n"
     ]
    },
    {
     "name": "stdout",
     "output_type": "stream",
     "text": [
      "Update slots object@net, object@netP, object@idents in a single dataset... \n"
     ]
    },
    {
     "name": "stderr",
     "output_type": "stream",
     "text": [
      "The CellChat object will be lifted up using the cell labels AD1.0, AD1.1, AD2, AD3, B, CD4T.act, CD4T.naive, CD4T.reg, CD8T.cytox, CD8T.em, CD8T.te, CD8T.te.IFNGhi, CD8T.trans, EC1.0, EC2.0, EC5.0, EC6.0, EC7.0, EC8.0, ILC, MAIT-like, MO.CD16, MO.VCAN, MP.FOLR2, MP.ISG, MP.LYVE1hi/MHCII.intermediate, MP.LYVE1hi/MHCII.lo, MP.LYVE1lo/MHCII.hi, MP.NFkB, MP.OSM, MP.TREM2, MP.transitional, Mast, Meso, NC1.0, NC1.1, NC1.2, NC1.3, NC2, NC3, NC4, NC5, NK.CD16hi, NK.CD16hiIFNGhi, NK.CD56hi, PC1, PC2, PC3, Plasma, SMC1.1, SMC1.2, SMC2, cDC1, cDC2, prolif.Lymphoids, prolif.Myeloids, vCM1.0, vCM1.1, vCM1.2, vCM1.3, vCM2, vCM3.0, vCM3.1, vCM4, vCM5, vFB1.0, vFB1.1, vFB1.2, vFB2, vFB3, vFB4\n",
      "\n"
     ]
    },
    {
     "name": "stdout",
     "output_type": "stream",
     "text": [
      "Update slots object@net, object@netP, object@idents in a single dataset... \n"
     ]
    },
    {
     "name": "stderr",
     "output_type": "stream",
     "text": [
      "The CellChat object will be lifted up using the cell labels AD1.0, AD1.1, AD2, AD3, B, CD4T.act, CD4T.naive, CD4T.reg, CD8T.cytox, CD8T.em, CD8T.te, CD8T.te.IFNGhi, CD8T.trans, EC1.0, EC2.0, EC5.0, EC6.0, EC7.0, EC8.0, ILC, MAIT-like, MO.CD16, MO.VCAN, MP.FOLR2, MP.ISG, MP.LYVE1hi/MHCII.intermediate, MP.LYVE1hi/MHCII.lo, MP.LYVE1lo/MHCII.hi, MP.NFkB, MP.OSM, MP.TREM2, MP.transitional, Mast, Meso, NC1.0, NC1.1, NC1.2, NC1.3, NC2, NC3, NC4, NC5, NK.CD16hi, NK.CD16hiIFNGhi, NK.CD56hi, PC1, PC2, PC3, Plasma, SMC1.1, SMC1.2, SMC2, cDC1, cDC2, prolif.Lymphoids, prolif.Myeloids, vCM1.0, vCM1.1, vCM1.2, vCM1.3, vCM2, vCM3.0, vCM3.1, vCM4, vCM5, vFB1.0, vFB1.1, vFB1.2, vFB2, vFB3, vFB4\n",
      "\n"
     ]
    },
    {
     "name": "stdout",
     "output_type": "stream",
     "text": [
      "Update slots object@net, object@netP, object@idents in a single dataset... \n"
     ]
    }
   ],
   "source": [
    "# Define the cell labels to lift up\n",
    "group.new = levels(cellchat.control.LV@idents)\n",
    "#group.new = sort(union(levels(cellchat.control.RV@idents), levels(cellchat.PKP2.RV@idents)))\n",
    "cellchat.control.RV.2 <- liftCellChat(cellchat.control.RV, group.new)\n",
    "cellchat.PKP2.RV.2 <- liftCellChat(cellchat.PKP2.RV, group.new)\n",
    "cellchat.TTN.RV.2 <- liftCellChat(cellchat.TTN.RV, group.new)\n",
    "cellchat.RBM20.RV.2 <- liftCellChat(cellchat.RBM20.RV, group.new)\n",
    "cellchat.LMNA.RV.2 <- liftCellChat(cellchat.LMNA.RV, group.new)\n",
    "cellchat.PVneg.RV.2 <- liftCellChat(cellchat.PVneg.RV, group.new)\n",
    "\n",
    "cellchat.control.LV.2 <- liftCellChat(cellchat.control.LV, group.new)\n",
    "cellchat.PKP2.LV.2 <- liftCellChat(cellchat.PKP2.LV, group.new)\n",
    "cellchat.TTN.LV.2 <- liftCellChat(cellchat.TTN.LV, group.new)\n",
    "cellchat.RBM20.LV.2 <- liftCellChat(cellchat.RBM20.LV, group.new)\n",
    "cellchat.LMNA.LV.2 <- liftCellChat(cellchat.LMNA.LV, group.new)\n",
    "cellchat.PVneg.LV.2 <- liftCellChat(cellchat.PVneg.LV, group.new)"
   ]
  },
  {
   "cell_type": "code",
   "execution_count": 24,
   "metadata": {},
   "outputs": [],
   "source": [
    "rm(list = c('cellchat.control.RV','cellchat.PKP2.RV','cellchat.TTN.RV', 'cellchat.RBM20.RV', 'cellchat.LMNA.RV','cellchat.PVneg.RV','cellchat.control.LV','cellchat.PKP2.LV','cellchat.TTN.LV','cellchat.RBM20.LV','cellchat.LMNA.LV','cellchat.PVneg.LV'))"
   ]
  },
  {
   "cell_type": "code",
   "execution_count": 25,
   "metadata": {},
   "outputs": [
    {
     "data": {
      "text/html": [
       "<table class=\"dataframe\">\n",
       "<caption>A matrix: 2 × 6 of type dbl</caption>\n",
       "<thead>\n",
       "\t<tr><th></th><th scope=col>used</th><th scope=col>(Mb)</th><th scope=col>gc trigger</th><th scope=col>(Mb)</th><th scope=col>max used</th><th scope=col>(Mb)</th></tr>\n",
       "</thead>\n",
       "<tbody>\n",
       "\t<tr><th scope=row>Ncells</th><td>   8184798</td><td>  437.2</td><td>  13087605</td><td>  699.0</td><td>  13087605</td><td>  699.0</td></tr>\n",
       "\t<tr><th scope=row>Vcells</th><td>2615015176</td><td>19951.0</td><td>4089879293</td><td>31203.4</td><td>2829857741</td><td>21590.2</td></tr>\n",
       "</tbody>\n",
       "</table>\n"
      ],
      "text/latex": [
       "A matrix: 2 × 6 of type dbl\n",
       "\\begin{tabular}{r|llllll}\n",
       "  & used & (Mb) & gc trigger & (Mb) & max used & (Mb)\\\\\n",
       "\\hline\n",
       "\tNcells &    8184798 &   437.2 &   13087605 &   699.0 &   13087605 &   699.0\\\\\n",
       "\tVcells & 2615015176 & 19951.0 & 4089879293 & 31203.4 & 2829857741 & 21590.2\\\\\n",
       "\\end{tabular}\n"
      ],
      "text/markdown": [
       "\n",
       "A matrix: 2 × 6 of type dbl\n",
       "\n",
       "| <!--/--> | used | (Mb) | gc trigger | (Mb) | max used | (Mb) |\n",
       "|---|---|---|---|---|---|---|\n",
       "| Ncells |    8184798 |   437.2 |   13087605 |   699.0 |   13087605 |   699.0 |\n",
       "| Vcells | 2615015176 | 19951.0 | 4089879293 | 31203.4 | 2829857741 | 21590.2 |\n",
       "\n"
      ],
      "text/plain": [
       "       used       (Mb)    gc trigger (Mb)    max used   (Mb)   \n",
       "Ncells    8184798   437.2   13087605   699.0   13087605   699.0\n",
       "Vcells 2615015176 19951.0 4089879293 31203.4 2829857741 21590.2"
      ]
     },
     "metadata": {},
     "output_type": "display_data"
    }
   ],
   "source": [
    "gc()"
   ]
  },
  {
   "cell_type": "code",
   "execution_count": 26,
   "metadata": {
    "tags": []
   },
   "outputs": [
    {
     "data": {
      "application/pdf": "[encoded data removed]",
      "image/jpeg": "[encoded data removed]",
      "image/png": "[encoded data removed]",
      "image/svg+xml": [
       "<?xml version=\"1.0\" encoding=\"UTF-8\"?>\n",
       "<svg xmlns=\"http://www.w3.org/2000/svg\" xmlns:xlink=\"http://www.w3.org/1999/xlink\" width=\"864pt\" height=\"864pt\" viewBox=\"0 0 864 864\" version=\"1.1\">\n",
       "<g id=\"surface72\">\n",
       "</g>\n",
       "</svg>\n"
      ],
      "text/plain": [
       "plot without title"
      ]
     },
     "metadata": {},
     "output_type": "display_data"
    }
   ],
   "source": [
    "pathways.show <- \"IGF\"\n",
    "pdf(file= paste('TEMP2_-_', pathways.show, '_LV.pdf', sep=''), width = 12, height = 12)\n",
    "\n",
    "netVisual_aggregate(cellchat.LMNA.LV.2, layout = 'chord', \n",
    "                    signaling = pathways.show, \n",
    "                    signaling.name = paste(pathways.show, 'LMNA_LV'),\n",
    "                    #group = group.cellType3, \n",
    "                    big.gap = 2.5, small.gap = 0.5,\n",
    "                    edge.width.max = 10,\n",
    "                    vertex.label.cex = 1.8,\n",
    "                    mar = c(5, 5, 5, 5)\n",
    "                   )\n",
    "graphics.off()"
   ]
  },
  {
   "cell_type": "code",
   "execution_count": 27,
   "metadata": {},
   "outputs": [],
   "source": [
    "object.list <- list(control.RV = cellchat.control.RV.2\n",
    "                  , LMNA.RV = cellchat.LMNA.RV.2\n",
    "                  , TTN.RV = cellchat.TTN.RV.2\n",
    "                  , RBM20.RV = cellchat.RBM20.RV.2\n",
    "                  , PKP2.RV = cellchat.PKP2.RV.2\n",
    "                  , PVneg.RV = cellchat.PVneg.RV.2\n",
    "                  , control.LV = cellchat.control.LV.2\n",
    "                  , LMNA.LV = cellchat.LMNA.LV.2\n",
    "                  , TTN.LV = cellchat.TTN.LV.2\n",
    "                  , RBM20.LV = cellchat.RBM20.LV.2\n",
    "                  , PKP2.LV = cellchat.PKP2.LV.2\n",
    "                  , PVneg.LV = cellchat.PVneg.LV.2\n",
    "                   )"
   ]
  },
  {
   "cell_type": "raw",
   "metadata": {},
   "source": [
    "object.list <- lapply(object.list, function(x) {aggregateNet(x)})\n",
    "#object.list <- lapply(object.list, function(x) {mergeInteractionsUnique(x, group.CELLTYPE)})\n",
    "gc()"
   ]
  },
  {
   "cell_type": "code",
   "execution_count": 28,
   "metadata": {},
   "outputs": [
    {
     "data": {
      "text/html": [
       "<table class=\"dataframe\">\n",
       "<caption>A data.frame: 6 × 2</caption>\n",
       "<thead>\n",
       "\t<tr><th></th><th scope=col>cell_states</th><th scope=col>cell_type</th></tr>\n",
       "\t<tr><th></th><th scope=col>&lt;chr&gt;</th><th scope=col>&lt;chr&gt;</th></tr>\n",
       "</thead>\n",
       "<tbody>\n",
       "\t<tr><th scope=row>1</th><td>SMC1.2</td><td>Mural</td></tr>\n",
       "\t<tr><th scope=row>2</th><td>vCM1.0</td><td>CM   </td></tr>\n",
       "\t<tr><th scope=row>3</th><td>vCM2  </td><td>CM   </td></tr>\n",
       "\t<tr><th scope=row>4</th><td>EC8.0 </td><td>EC   </td></tr>\n",
       "\t<tr><th scope=row>5</th><td>PC1   </td><td>Mural</td></tr>\n",
       "\t<tr><th scope=row>6</th><td>vCM3.0</td><td>CM   </td></tr>\n",
       "</tbody>\n",
       "</table>\n"
      ],
      "text/latex": [
       "A data.frame: 6 × 2\n",
       "\\begin{tabular}{r|ll}\n",
       "  & cell\\_states & cell\\_type\\\\\n",
       "  & <chr> & <chr>\\\\\n",
       "\\hline\n",
       "\t1 & SMC1.2 & Mural\\\\\n",
       "\t2 & vCM1.0 & CM   \\\\\n",
       "\t3 & vCM2   & CM   \\\\\n",
       "\t4 & EC8.0  & EC   \\\\\n",
       "\t5 & PC1    & Mural\\\\\n",
       "\t6 & vCM3.0 & CM   \\\\\n",
       "\\end{tabular}\n"
      ],
      "text/markdown": [
       "\n",
       "A data.frame: 6 × 2\n",
       "\n",
       "| <!--/--> | cell_states &lt;chr&gt; | cell_type &lt;chr&gt; |\n",
       "|---|---|---|\n",
       "| 1 | SMC1.2 | Mural |\n",
       "| 2 | vCM1.0 | CM    |\n",
       "| 3 | vCM2   | CM    |\n",
       "| 4 | EC8.0  | EC    |\n",
       "| 5 | PC1    | Mural |\n",
       "| 6 | vCM3.0 | CM    |\n",
       "\n"
      ],
      "text/plain": [
       "  cell_states cell_type\n",
       "1 SMC1.2      Mural    \n",
       "2 vCM1.0      CM       \n",
       "3 vCM2        CM       \n",
       "4 EC8.0       EC       \n",
       "5 PC1         Mural    \n",
       "6 vCM3.0      CM       "
      ]
     },
     "metadata": {},
     "output_type": "display_data"
    }
   ],
   "source": [
    "#CELLSTATE_CELLTYPE_map <- distinct(rbind(cellchat.control.RV.2@meta[c('cell_states','cell_type')],cellchat.PKP2.RV.2@meta[c('cell_states','cell_type')]))\n",
    "CELLSTATE_CELLTYPE_map <- distinct(cellchat.control.LV.2@meta[c('cell_states','cell_type')])\n",
    "CELLSTATE_CELLTYPE_map <- data.frame(lapply(CELLSTATE_CELLTYPE_map, as.character), stringsAsFactors=FALSE)\n",
    "head(CELLSTATE_CELLTYPE_map)"
   ]
  },
  {
   "cell_type": "code",
   "execution_count": 29,
   "metadata": {},
   "outputs": [
    {
     "data": {
      "text/html": [
       "<style>\n",
       ".list-inline {list-style: none; margin:0; padding: 0}\n",
       ".list-inline>li {display: inline-block}\n",
       ".list-inline>li:not(:last-child)::after {content: \"\\00b7\"; padding: 0 .5ex}\n",
       "</style>\n",
       "<ol class=list-inline><li>'Myeloid'</li><li>'Lymphoid'</li><li>'NC'</li><li>'Mast'</li><li>'AD'</li><li>'CM'</li><li>'Mural'</li><li>'FB'</li><li>'EC'</li></ol>\n"
      ],
      "text/latex": [
       "\\begin{enumerate*}\n",
       "\\item 'Myeloid'\n",
       "\\item 'Lymphoid'\n",
       "\\item 'NC'\n",
       "\\item 'Mast'\n",
       "\\item 'AD'\n",
       "\\item 'CM'\n",
       "\\item 'Mural'\n",
       "\\item 'FB'\n",
       "\\item 'EC'\n",
       "\\end{enumerate*}\n"
      ],
      "text/markdown": [
       "1. 'Myeloid'\n",
       "2. 'Lymphoid'\n",
       "3. 'NC'\n",
       "4. 'Mast'\n",
       "5. 'AD'\n",
       "6. 'CM'\n",
       "7. 'Mural'\n",
       "8. 'FB'\n",
       "9. 'EC'\n",
       "\n",
       "\n"
      ],
      "text/plain": [
       "[1] \"Myeloid\"  \"Lymphoid\" \"NC\"       \"Mast\"     \"AD\"       \"CM\"       \"Mural\"   \n",
       "[8] \"FB\"       \"EC\"      "
      ]
     },
     "metadata": {},
     "output_type": "display_data"
    }
   ],
   "source": [
    "CELLTYPE.ORDER <- c('CM','Mural','FB','EC','Myeloid','Lymphoid','NC','Mast','AD')\n",
    "CELLTYPE.PLOT.ORDER <- c(CELLTYPE.ORDER[5:length(CELLTYPE.ORDER)],CELLTYPE.ORDER[1:4]) \n",
    "CELLTYPE.PLOT.ORDER"
   ]
  },
  {
   "cell_type": "code",
   "execution_count": 30,
   "metadata": {},
   "outputs": [],
   "source": [
    "group.CELLTYPE <- mapvalues(group.new, from=CELLSTATE_CELLTYPE_map$cell_states, to=CELLSTATE_CELLTYPE_map$cell_type)\n",
    "group.CELLTYPE <- factor(group.CELLTYPE)\n",
    "group.CELLTYPE <- factor(group.CELLTYPE, levels = CELLTYPE.PLOT.ORDER)"
   ]
  },
  {
   "cell_type": "code",
   "execution_count": 31,
   "metadata": {},
   "outputs": [
    {
     "name": "stderr",
     "output_type": "stream",
     "text": [
      "Warning message in eval(quote(list(...)), env):\n",
      "“NAs introduced by coercion”\n"
     ]
    }
   ],
   "source": [
    "cellstate.order <- order(CELLSTATE_CELLTYPE_map$cell_type, gsub(\"^([^\\\\.0-9]{2,3}?)[\\\\.0-9]+.*?$\", \"\\\\1\", CELLSTATE_CELLTYPE_map$cell_states), as.numeric(gsub(\"^[^\\\\.0-9]{2,3}([\\\\.0-9]+).*?$\", \"\\\\1\", CELLSTATE_CELLTYPE_map$cell_states)))\n",
    "group.cellType <- CELLSTATE_CELLTYPE_map$cell_type\n",
    "names(group.cellType) <- CELLSTATE_CELLTYPE_map$cell_states\n",
    "group.cellType2 <- group.cellType[cellstate.order]\n",
    "\n",
    "group.cellType3 <- factor(group.cellType2, levels = CELLTYPE.PLOT.ORDER)\n",
    "group.cellType3 <- group.cellType3[order(group.cellType3)]"
   ]
  },
  {
   "cell_type": "raw",
   "metadata": {},
   "source": [
    "object.list <- lapply(object.list, function(x) {mergeInteractions(x, group.CELLTYPE)})\n",
    "#object.list <- lapply(object.list, function(x) {mergeInteractionsUnique(x, group.CELLTYPE)})"
   ]
  },
  {
   "cell_type": "raw",
   "metadata": {},
   "source": [
    "gc()"
   ]
  },
  {
   "cell_type": "markdown",
   "metadata": {},
   "source": [
    "## Make Cellstate pathway specific Chord graphs"
   ]
  },
  {
   "cell_type": "code",
   "execution_count": 32,
   "metadata": {},
   "outputs": [
    {
     "data": {
      "text/html": [
       "<style>\n",
       ".list-inline {list-style: none; margin:0; padding: 0}\n",
       ".list-inline>li {display: inline-block}\n",
       ".list-inline>li:not(:last-child)::after {content: \"\\00b7\"; padding: 0 .5ex}\n",
       "</style>\n",
       "<ol class=list-inline><li>'control.RV'</li><li>'LMNA.RV'</li><li>'TTN.RV'</li><li>'RBM20.RV'</li><li>'PKP2.RV'</li><li>'PVneg.RV'</li><li>'control.LV'</li><li>'LMNA.LV'</li><li>'TTN.LV'</li><li>'RBM20.LV'</li><li>'PKP2.LV'</li><li>'PVneg.LV'</li></ol>\n"
      ],
      "text/latex": [
       "\\begin{enumerate*}\n",
       "\\item 'control.RV'\n",
       "\\item 'LMNA.RV'\n",
       "\\item 'TTN.RV'\n",
       "\\item 'RBM20.RV'\n",
       "\\item 'PKP2.RV'\n",
       "\\item 'PVneg.RV'\n",
       "\\item 'control.LV'\n",
       "\\item 'LMNA.LV'\n",
       "\\item 'TTN.LV'\n",
       "\\item 'RBM20.LV'\n",
       "\\item 'PKP2.LV'\n",
       "\\item 'PVneg.LV'\n",
       "\\end{enumerate*}\n"
      ],
      "text/markdown": [
       "1. 'control.RV'\n",
       "2. 'LMNA.RV'\n",
       "3. 'TTN.RV'\n",
       "4. 'RBM20.RV'\n",
       "5. 'PKP2.RV'\n",
       "6. 'PVneg.RV'\n",
       "7. 'control.LV'\n",
       "8. 'LMNA.LV'\n",
       "9. 'TTN.LV'\n",
       "10. 'RBM20.LV'\n",
       "11. 'PKP2.LV'\n",
       "12. 'PVneg.LV'\n",
       "\n",
       "\n"
      ],
      "text/plain": [
       " [1] \"control.RV\" \"LMNA.RV\"    \"TTN.RV\"     \"RBM20.RV\"   \"PKP2.RV\"   \n",
       " [6] \"PVneg.RV\"   \"control.LV\" \"LMNA.LV\"    \"TTN.LV\"     \"RBM20.LV\"  \n",
       "[11] \"PKP2.LV\"    \"PVneg.LV\"  "
      ]
     },
     "metadata": {},
     "output_type": "display_data"
    }
   ],
   "source": [
    "names(object.list)"
   ]
  },
  {
   "cell_type": "markdown",
   "metadata": {},
   "source": [
    "## LV"
   ]
  },
  {
   "cell_type": "code",
   "execution_count": 33,
   "metadata": {},
   "outputs": [],
   "source": [
    "pathways.show <- 'IGF'\n",
    "\n",
    "pdf(file= paste('netVisual_aggregate_chord_plot_-_', pathways.show, '_LV.pdf', sep=''), width = 12, height = 12)\n",
    "\n",
    "for (i in c(7:12)){\n",
    "    netVisual_aggregate(object.list[[i]], layout = 'chord', \n",
    "                    signaling = pathways.show, \n",
    "                    signaling.name = paste(pathways.show, names(object.list)[[i]]),\n",
    "                    group = group.cellType3, \n",
    "                    big.gap = 2.5, small.gap = 0.5,\n",
    "                    edge.width.max = 10,\n",
    "                    vertex.label.cex = 1.8,\n",
    "                    mar = c(5, 5, 5, 5)\n",
    "                   )\n",
    "}\n",
    "\n",
    "graphics.off()\n"
   ]
  },
  {
   "cell_type": "code",
   "execution_count": 34,
   "metadata": {},
   "outputs": [],
   "source": [
    "pathways.show <- 'BMP'\n",
    "\n",
    "pdf(file= paste('netVisual_aggregate_chord_plot_-_', pathways.show, '_LV.pdf', sep=''), width = 12, height = 12)\n",
    "\n",
    "for (i in c(7:12)){\n",
    "    netVisual_aggregate(object.list[[i]], layout = 'chord', \n",
    "                    signaling = pathways.show, \n",
    "                    signaling.name = paste(pathways.show, names(object.list)[[i]]),\n",
    "                    group = group.cellType3, \n",
    "                    big.gap = 2.5, small.gap = 0.5,\n",
    "                    edge.width.max = 10,\n",
    "                    vertex.label.cex = 1.8,\n",
    "                    mar = c(5, 5, 5, 5)\n",
    "                   )\n",
    "}\n",
    "\n",
    "graphics.off()\n"
   ]
  },
  {
   "cell_type": "code",
   "execution_count": 35,
   "metadata": {},
   "outputs": [],
   "source": [
    "pathways.show <- 'PERIOSTIN'\n",
    "\n",
    "pdf(file= paste('netVisual_aggregate_chord_plot_-_', pathways.show, '_LV.pdf', sep=''), width = 12, height = 12)\n",
    "\n",
    "for (i in c(7:12)){\n",
    "    netVisual_aggregate(object.list[[i]], layout = 'chord', \n",
    "                    signaling = pathways.show, \n",
    "                    signaling.name = paste(pathways.show, names(object.list)[[i]]),\n",
    "                    group = group.cellType3, \n",
    "                    big.gap = 2.5, small.gap = 0.5,\n",
    "                    edge.width.max = 10,\n",
    "                    vertex.label.cex = 1.8,\n",
    "                    mar = c(5, 5, 5, 5)\n",
    "                   )\n",
    "}\n",
    "\n",
    "graphics.off()\n"
   ]
  },
  {
   "cell_type": "code",
   "execution_count": 36,
   "metadata": {},
   "outputs": [],
   "source": [
    "pathways.show <- 'NRG'\n",
    "\n",
    "pdf(file= paste('netVisual_aggregate_chord_plot_-_', pathways.show, '_LV.pdf', sep=''), width = 12, height = 12)\n",
    "\n",
    "for (i in c(7:12)){\n",
    "    netVisual_aggregate(object.list[[i]], layout = 'chord', \n",
    "                    signaling = pathways.show, \n",
    "                    signaling.name = paste(pathways.show, names(object.list)[[i]]),\n",
    "                    group = group.cellType3, \n",
    "                    big.gap = 2.5, small.gap = 0.5,\n",
    "                    edge.width.max = 10,\n",
    "                    vertex.label.cex = 1.8,\n",
    "                    mar = c(5, 5, 5, 5)\n",
    "                   )\n",
    "}\n",
    "graphics.off()\n"
   ]
  },
  {
   "cell_type": "code",
   "execution_count": 37,
   "metadata": {},
   "outputs": [],
   "source": [
    "pathways.show <- 'EDN'\n",
    "\n",
    "pdf(file= paste('netVisual_aggregate_chord_plot_-_', pathways.show, '_LV.pdf', sep=''), width = 12, height = 12)\n",
    "\n",
    "for (i in c(8:8)){\n",
    "    netVisual_aggregate(object.list[[i]], layout = 'chord', \n",
    "                    signaling = pathways.show, \n",
    "                    signaling.name = paste(pathways.show, names(object.list)[[i]]),\n",
    "                    group = group.cellType3, \n",
    "                    big.gap = 2.5, small.gap = 0.5,\n",
    "                    edge.width.max = 10,\n",
    "                    vertex.label.cex = 1.8,\n",
    "                    mar = c(5, 5, 5, 5)\n",
    "                   )\n",
    "}\n",
    "\n",
    "graphics.off()\n"
   ]
  },
  {
   "cell_type": "code",
   "execution_count": 38,
   "metadata": {},
   "outputs": [],
   "source": [
    "pathways.show <- 'PROS'\n",
    "\n",
    "pdf(file= paste('netVisual_aggregate_chord_plot_-_', pathways.show, '_LV.pdf', sep=''), width = 12, height = 12)\n",
    "\n",
    "for (i in c(8:12)){\n",
    "    netVisual_aggregate(object.list[[i]], layout = 'chord', \n",
    "                    signaling = pathways.show, \n",
    "                    signaling.name = paste(pathways.show, names(object.list)[[i]]),\n",
    "                    group = group.cellType3, \n",
    "                    big.gap = 2.5, small.gap = 0.5,\n",
    "                    edge.width.max = 10,\n",
    "                    vertex.label.cex = 1.8,\n",
    "                    mar = c(5, 5, 5, 5)\n",
    "                   )\n",
    "}\n",
    "graphics.off()\n"
   ]
  },
  {
   "cell_type": "code",
   "execution_count": 39,
   "metadata": {},
   "outputs": [],
   "source": [
    "pathways.show <- 'ITGB2'\n",
    "\n",
    "pdf(file= paste('netVisual_aggregate_chord_plot_-_', pathways.show, '_LV.pdf', sep=''), width = 12, height = 12)\n",
    "\n",
    "for (i in c(8:12)){\n",
    "    netVisual_aggregate(object.list[[i]], layout = 'chord', \n",
    "                    signaling = pathways.show, \n",
    "                    signaling.name = paste(pathways.show, names(object.list)[[i]]),\n",
    "                    group = group.cellType3, \n",
    "                    big.gap = 2.5, small.gap = 0.5,\n",
    "                    edge.width.max = 10,\n",
    "                    vertex.label.cex = 1.8,\n",
    "                    mar = c(5, 5, 5, 5)\n",
    "                   )\n",
    "}\n",
    "graphics.off()\n"
   ]
  },
  {
   "cell_type": "code",
   "execution_count": null,
   "metadata": {},
   "outputs": [],
   "source": []
  },
  {
   "cell_type": "markdown",
   "metadata": {},
   "source": [
    "## RV"
   ]
  },
  {
   "cell_type": "code",
   "execution_count": 40,
   "metadata": {},
   "outputs": [],
   "source": [
    "pathways.show <- 'IGF'\n",
    "\n",
    "pdf(file= paste('netVisual_aggregate_chord_plot_-_', pathways.show, '_RV.pdf', sep=''), width = 12, height = 12)\n",
    "\n",
    "for (i in c(1:6)){\n",
    "    netVisual_aggregate(object.list[[i]], layout = 'chord', \n",
    "                    signaling = pathways.show, \n",
    "                    signaling.name = paste(pathways.show, names(object.list)[[i]]),\n",
    "                    group = group.cellType3, \n",
    "                    big.gap = 2.5, small.gap = 0.5,\n",
    "                    edge.width.max = 10,\n",
    "                    vertex.label.cex = 1.8,\n",
    "                    mar = c(5, 5, 5, 5)\n",
    "                   )\n",
    "}\n",
    "\n",
    "graphics.off()\n"
   ]
  },
  {
   "cell_type": "code",
   "execution_count": 41,
   "metadata": {},
   "outputs": [],
   "source": [
    "pathways.show <- 'BMP'\n",
    "\n",
    "pdf(file= paste('netVisual_aggregate_chord_plot_-_', pathways.show, '_RV.pdf', sep=''), width = 12, height = 12)\n",
    "\n",
    "for (i in c(1:6)){\n",
    "    netVisual_aggregate(object.list[[i]], layout = 'chord', \n",
    "                    signaling = pathways.show, \n",
    "                    signaling.name = paste(pathways.show, names(object.list)[[i]]),\n",
    "                    group = group.cellType3, \n",
    "                    big.gap = 2.5, small.gap = 0.5,\n",
    "                    edge.width.max = 10,\n",
    "                    vertex.label.cex = 1.8,\n",
    "                    mar = c(5, 5, 5, 5)\n",
    "                   )\n",
    "}\n",
    "\n",
    "graphics.off()\n"
   ]
  },
  {
   "cell_type": "code",
   "execution_count": 42,
   "metadata": {},
   "outputs": [],
   "source": [
    "pathways.show <- 'PERIOSTIN'\n",
    "\n",
    "pdf(file= paste('netVisual_aggregate_chord_plot_-_', pathways.show, '_RV.pdf', sep=''), width = 12, height = 12)\n",
    "\n",
    "for (i in c(1:6)){\n",
    "    netVisual_aggregate(object.list[[i]], layout = 'chord', \n",
    "                    signaling = pathways.show, \n",
    "                    signaling.name = paste(pathways.show, names(object.list)[[i]]),\n",
    "                    group = group.cellType3, \n",
    "                    big.gap = 2.5, small.gap = 0.5,\n",
    "                    edge.width.max = 10,\n",
    "                    vertex.label.cex = 1.8,\n",
    "                    mar = c(5, 5, 5, 5)\n",
    "                   )\n",
    "}\n",
    "\n",
    "graphics.off()\n"
   ]
  },
  {
   "cell_type": "code",
   "execution_count": 43,
   "metadata": {},
   "outputs": [],
   "source": [
    "pathways.show <- 'NRG'\n",
    "\n",
    "pdf(file= paste('netVisual_aggregate_chord_plot_-_', pathways.show, '_RV.pdf', sep=''), width = 12, height = 12)\n",
    "\n",
    "for (i in c(1:6)){\n",
    "    netVisual_aggregate(object.list[[i]], layout = 'chord', \n",
    "                    signaling = pathways.show, \n",
    "                    signaling.name = paste(pathways.show, names(object.list)[[i]]),\n",
    "                    group = group.cellType3, \n",
    "                    big.gap = 2.5, small.gap = 0.5,\n",
    "                    edge.width.max = 10,\n",
    "                    vertex.label.cex = 1.8,\n",
    "                    mar = c(5, 5, 5, 5)\n",
    "                   )\n",
    "}\n",
    "\n",
    "graphics.off()\n"
   ]
  },
  {
   "cell_type": "code",
   "execution_count": 44,
   "metadata": {},
   "outputs": [],
   "source": [
    "pathways.show <- 'EDN'\n",
    "\n",
    "pdf(file= paste('netVisual_aggregate_chord_plot_-_', pathways.show, '_RV.pdf', sep=''), width = 12, height = 12)\n",
    "\n",
    "for (i in c(5:5)){\n",
    "    netVisual_aggregate(object.list[[i]], layout = 'chord', \n",
    "                    signaling = pathways.show, \n",
    "                    signaling.name = paste(pathways.show, names(object.list)[[i]]),\n",
    "                    group = group.cellType3, \n",
    "                    big.gap = 2.5, small.gap = 0.5,\n",
    "                    edge.width.max = 10,\n",
    "                    vertex.label.cex = 1.8,\n",
    "                    mar = c(5, 5, 5, 5)\n",
    "                   )\n",
    "}\n",
    "\n",
    "graphics.off()\n"
   ]
  },
  {
   "cell_type": "code",
   "execution_count": null,
   "metadata": {},
   "outputs": [],
   "source": []
  },
  {
   "cell_type": "code",
   "execution_count": null,
   "metadata": {},
   "outputs": [],
   "source": []
  },
  {
   "cell_type": "code",
   "execution_count": null,
   "metadata": {},
   "outputs": [],
   "source": []
  },
  {
   "cell_type": "code",
   "execution_count": null,
   "metadata": {},
   "outputs": [],
   "source": []
  }
 ],
 "metadata": {
  "kernelspec": {
   "display_name": "R4.0.5 (CellChat)",
   "language": "R",
   "name": "ir405_cellchat"
  },
  "language_info": {
   "codemirror_mode": "r",
   "file_extension": ".r",
   "mimetype": "text/x-r-source",
   "name": "R",
   "pygments_lexer": "r",
   "version": "4.0.5"
  }
 },
 "nbformat": 4,
 "nbformat_minor": 4
}
