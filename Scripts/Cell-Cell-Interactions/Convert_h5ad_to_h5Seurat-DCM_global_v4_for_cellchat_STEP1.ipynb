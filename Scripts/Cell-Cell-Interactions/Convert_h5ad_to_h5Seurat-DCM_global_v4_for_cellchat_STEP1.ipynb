{
 "cells": [
  {
   "cell_type": "code",
   "execution_count": 1,
   "metadata": {},
   "outputs": [],
   "source": [
    "import scanpy as sc"
   ]
  },
  {
   "cell_type": "code",
   "execution_count": null,
   "metadata": {},
   "outputs": [],
   "source": []
  },
  {
   "cell_type": "code",
   "execution_count": 2,
   "metadata": {},
   "outputs": [],
   "source": [
    "INDIR = '/fast/AG_Huebner/huebner3/ANALYSES/20190926_gp_BadOyenhausen/scanpy/20210302/Global_touse/'\n",
    "FILE = 'global_all_ANNOTATED_CELLSTATES_RAW_V6.h5ad'\n"
   ]
  },
  {
   "cell_type": "code",
   "execution_count": 3,
   "metadata": {},
   "outputs": [],
   "source": [
    "PREFIX=\"global_all_ANNOTATED_CELLSTATES_RAW_V6_\""
   ]
  },
  {
   "cell_type": "code",
   "execution_count": 4,
   "metadata": {},
   "outputs": [],
   "source": [
    "OUTDIR=\"/fast/AG_Huebner/huebner3/ANALYSES/20190926_gp_BadOyenhausen/scanpy/20210302/Cellchat/\""
   ]
  },
  {
   "cell_type": "code",
   "execution_count": null,
   "metadata": {},
   "outputs": [],
   "source": []
  },
  {
   "cell_type": "code",
   "execution_count": 5,
   "metadata": {},
   "outputs": [],
   "source": [
    "x = sc.read_h5ad(INDIR + FILE)"
   ]
  },
  {
   "cell_type": "code",
   "execution_count": 6,
   "metadata": {},
   "outputs": [
    {
     "name": "stdout",
     "output_type": "stream",
     "text": [
      "LMNA finished!\n",
      "TTN finished!\n",
      "RBM20 finished!\n",
      "PKP2 finished!\n",
      "PVneg finished!\n",
      "control finished!\n",
      "PLN finished!\n"
     ]
    }
   ],
   "source": [
    "for GENE in ['LMNA', 'TTN', 'RBM20', 'PKP2', 'PVneg', 'control', 'PLN']:\n",
    "    (x[x.obs['Clinical.dominant.mutation']==GENE]).write(OUTDIR + PREFIX + GENE + \".h5ad\")\n",
    "    print(GENE + \" finished!\")\n",
    "    "
   ]
  },
  {
   "cell_type": "code",
   "execution_count": null,
   "metadata": {},
   "outputs": [],
   "source": []
  },
  {
   "cell_type": "code",
   "execution_count": 14,
   "metadata": {
    "scrolled": false
   },
   "outputs": [
    {
     "name": "stdout",
     "output_type": "stream",
     "text": [
      "E0.1\n",
      "LY0\n",
      "vFB0\n",
      "MY0\n",
      "E0.2\n",
      "PC_lowQC\n",
      "vCM0\n",
      "SMC_lowQC\n",
      "NC0\n",
      "NC2\n",
      "E0.5\n",
      "Mast0.1\n",
      "NC3\n",
      "E0.3\n",
      "Mast0.3\n",
      "Mast0.2\n",
      "Mast0.4\n",
      "Mast0.7\n",
      "Mast0.5\n",
      "E0.4\n",
      "AD0.1\n",
      "AD0.4\n",
      "AD0.5\n",
      "AD0.2\n",
      "AD0.3\n",
      "Mast0.6\n"
     ]
    }
   ],
   "source": [
    "for i in (x[~x.obs.validated].obs.cell_states).unique():\n",
    "    print(i)"
   ]
  }
 ],
 "metadata": {
  "kernelspec": {
   "display_name": "Python 3",
   "language": "python",
   "name": "python3"
  },
  "language_info": {
   "codemirror_mode": {
    "name": "ipython",
    "version": 3
   },
   "file_extension": ".py",
   "mimetype": "text/x-python",
   "name": "python",
   "nbconvert_exporter": "python",
   "pygments_lexer": "ipython3",
   "version": "3.8.3"
  }
 },
 "nbformat": 4,
 "nbformat_minor": 4
}
